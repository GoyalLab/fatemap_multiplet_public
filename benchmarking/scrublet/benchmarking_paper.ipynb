{
 "cells": [
  {
   "cell_type": "code",
   "execution_count": 1,
   "id": "06d5a85a",
   "metadata": {},
   "outputs": [],
   "source": [
    "import matplotlib.pyplot as plt\n",
    "from scrublet_util import *\n",
    "import os\n",
    "import random"
   ]
  },
  {
   "cell_type": "code",
   "execution_count": 4,
   "id": "8e2d450c",
   "metadata": {},
   "outputs": [],
   "source": [
    "import scrublet "
   ]
  },
  {
   "cell_type": "code",
   "execution_count": 6,
   "id": "e372c6bd",
   "metadata": {},
   "outputs": [
    {
     "data": {
      "text/plain": [
       "<module 'scrublet' from '/home/zzj4347/softwares/anaconda3/envs/doublet-bchmk/lib/python3.7/site-packages/scrublet/__init__.py'>"
      ]
     },
     "execution_count": 6,
     "metadata": {},
     "output_type": "execute_result"
    }
   ],
   "source": [
    "s"
   ]
  },
  {
   "cell_type": "code",
   "execution_count": 2,
   "id": "62ba2a29",
   "metadata": {},
   "outputs": [
    {
     "name": "stdout",
     "output_type": "stream",
     "text": [
      "INFO: Benchmarking datasets from benchmarking paper!\n",
      "/projects/p31666/zzhang/doublet-bchmk/data/bchmk_paper_real_data/pdx-MULTI/pdx-MULTI.mtx\n",
      "Preprocessing...\n",
      "Simulating doublets...\n",
      "Embedding transcriptomes using PCA...\n",
      "Calculating doublet scores...\n",
      "Automatically set threshold at doublet score = 0.66\n",
      "Detected doublet rate = 0.0%\n",
      "Estimated detectable doublet fraction = 0.1%\n",
      "Overall doublet rate:\n",
      "\tExpected   = 10.0%\n",
      "\tEstimated  = 28.6%\n",
      "Elapsed time: 15.4 seconds\n",
      "/projects/p31666/zzhang/doublet-bchmk/data/bchmk_paper_real_data/HMEC-rep-MULTI/HMEC-rep-MULTI.mtx\n",
      "Preprocessing...\n",
      "Simulating doublets...\n",
      "Embedding transcriptomes using PCA...\n",
      "Calculating doublet scores...\n",
      "Automatically set threshold at doublet score = 0.72\n",
      "Detected doublet rate = 0.1%\n",
      "Estimated detectable doublet fraction = 0.4%\n",
      "Overall doublet rate:\n",
      "\tExpected   = 10.0%\n",
      "\tEstimated  = 13.2%\n",
      "Elapsed time: 12.0 seconds\n",
      "/projects/p31666/zzhang/doublet-bchmk/data/bchmk_paper_real_data/mkidney-ch/mkidney-ch.mtx\n",
      "Preprocessing...\n",
      "Simulating doublets...\n",
      "Embedding transcriptomes using PCA...\n",
      "Calculating doublet scores...\n",
      "Automatically set threshold at doublet score = 0.28\n",
      "Detected doublet rate = 5.6%\n",
      "Estimated detectable doublet fraction = 35.1%\n",
      "Overall doublet rate:\n",
      "\tExpected   = 10.0%\n",
      "\tEstimated  = 15.9%\n",
      "Elapsed time: 42.0 seconds\n",
      "/projects/p31666/zzhang/doublet-bchmk/data/bchmk_paper_real_data/hm-12k/hm-12k.mtx\n",
      "Preprocessing...\n"
     ]
    },
    {
     "name": "stderr",
     "output_type": "stream",
     "text": [
      "/home/zzj4347/softwares/anaconda3/envs/doublet-bchmk/lib/python3.7/site-packages/scrublet/helper_functions.py:241: RuntimeWarning: invalid value encountered in log\n",
      "  gLog = lambda input: np.log(input[1] * np.exp(-input[0]) + input[2])\n"
     ]
    },
    {
     "name": "stdout",
     "output_type": "stream",
     "text": [
      "Simulating doublets...\n",
      "Embedding transcriptomes using PCA...\n",
      "Calculating doublet scores...\n",
      "Automatically set threshold at doublet score = 0.35\n",
      "Detected doublet rate = 4.8%\n",
      "Estimated detectable doublet fraction = 55.9%\n",
      "Overall doublet rate:\n",
      "\tExpected   = 10.0%\n",
      "\tEstimated  = 8.5%\n",
      "Elapsed time: 25.6 seconds\n",
      "/projects/p31666/zzhang/doublet-bchmk/data/bchmk_paper_real_data/pbmc-1A-dm/pbmc-1A-dm.mtx\n",
      "Preprocessing...\n",
      "Simulating doublets...\n",
      "Embedding transcriptomes using PCA...\n",
      "Calculating doublet scores...\n",
      "Automatically set threshold at doublet score = 0.65\n",
      "Detected doublet rate = 0.3%\n",
      "Estimated detectable doublet fraction = 11.5%\n",
      "Overall doublet rate:\n",
      "\tExpected   = 10.0%\n",
      "\tEstimated  = 2.6%\n",
      "Elapsed time: 2.3 seconds\n",
      "/projects/p31666/zzhang/doublet-bchmk/data/bchmk_paper_real_data/pbmc-1C-dm/pbmc-1C-dm.mtx\n",
      "Preprocessing...\n",
      "Simulating doublets...\n",
      "Embedding transcriptomes using PCA...\n",
      "Calculating doublet scores...\n",
      "Automatically set threshold at doublet score = 0.39\n",
      "Detected doublet rate = 2.5%\n",
      "Estimated detectable doublet fraction = 34.4%\n",
      "Overall doublet rate:\n",
      "\tExpected   = 10.0%\n",
      "\tEstimated  = 7.2%\n",
      "Elapsed time: 5.4 seconds\n",
      "/projects/p31666/zzhang/doublet-bchmk/data/bchmk_paper_real_data/HMEC-orig-MULTI/HMEC-orig-MULTI.mtx\n",
      "Preprocessing...\n",
      "Simulating doublets...\n",
      "Embedding transcriptomes using PCA...\n",
      "Calculating doublet scores...\n",
      "Automatically set threshold at doublet score = 0.31\n",
      "Detected doublet rate = 4.5%\n",
      "Estimated detectable doublet fraction = 49.2%\n",
      "Overall doublet rate:\n",
      "\tExpected   = 10.0%\n",
      "\tEstimated  = 9.2%\n",
      "Elapsed time: 85.7 seconds\n",
      "/projects/p31666/zzhang/doublet-bchmk/data/bchmk_paper_real_data/pbmc-2stim-dm/pbmc-2stim-dm.mtx\n",
      "Preprocessing...\n",
      "Simulating doublets...\n",
      "Embedding transcriptomes using PCA...\n",
      "Calculating doublet scores...\n",
      "Automatically set threshold at doublet score = 0.28\n",
      "Detected doublet rate = 7.6%\n",
      "Estimated detectable doublet fraction = 52.6%\n",
      "Overall doublet rate:\n",
      "\tExpected   = 10.0%\n",
      "\tEstimated  = 14.4%\n",
      "Elapsed time: 17.7 seconds\n",
      "/projects/p31666/zzhang/doublet-bchmk/data/bchmk_paper_real_data/pbmc-2ctrl-dm/pbmc-2ctrl-dm.mtx\n",
      "Preprocessing...\n",
      "Simulating doublets...\n",
      "Embedding transcriptomes using PCA...\n",
      "Calculating doublet scores...\n",
      "Automatically set threshold at doublet score = 0.26\n",
      "Detected doublet rate = 8.2%\n",
      "Estimated detectable doublet fraction = 56.2%\n",
      "Overall doublet rate:\n",
      "\tExpected   = 10.0%\n",
      "\tEstimated  = 14.6%\n",
      "Elapsed time: 20.3 seconds\n",
      "/projects/p31666/zzhang/doublet-bchmk/data/bchmk_paper_real_data/J293t-dm/J293t-dm.mtx\n",
      "Preprocessing...\n",
      "Simulating doublets...\n"
     ]
    },
    {
     "name": "stderr",
     "output_type": "stream",
     "text": [
      "/home/zzj4347/softwares/anaconda3/envs/doublet-bchmk/lib/python3.7/site-packages/scrublet/helper_functions.py:241: RuntimeWarning: invalid value encountered in log\n",
      "  gLog = lambda input: np.log(input[1] * np.exp(-input[0]) + input[2])\n"
     ]
    },
    {
     "name": "stdout",
     "output_type": "stream",
     "text": [
      "Embedding transcriptomes using PCA...\n",
      "Calculating doublet scores...\n",
      "Automatically set threshold at doublet score = 0.33\n",
      "Detected doublet rate = 1.6%\n",
      "Estimated detectable doublet fraction = 47.2%\n",
      "Overall doublet rate:\n",
      "\tExpected   = 10.0%\n",
      "\tEstimated  = 3.4%\n",
      "Elapsed time: 1.2 seconds\n",
      "/projects/p31666/zzhang/doublet-bchmk/data/bchmk_paper_real_data/pbmc-ch/pbmc-ch.mtx\n",
      "Preprocessing...\n",
      "Simulating doublets...\n",
      "Embedding transcriptomes using PCA...\n",
      "Calculating doublet scores...\n",
      "Automatically set threshold at doublet score = 0.28\n",
      "Detected doublet rate = 6.6%\n",
      "Estimated detectable doublet fraction = 47.8%\n",
      "Overall doublet rate:\n",
      "\tExpected   = 10.0%\n",
      "\tEstimated  = 13.8%\n",
      "Elapsed time: 16.5 seconds\n",
      "/projects/p31666/zzhang/doublet-bchmk/data/bchmk_paper_real_data/pbmc-1B-dm/pbmc-1B-dm.mtx\n",
      "Preprocessing...\n",
      "Simulating doublets...\n",
      "Embedding transcriptomes using PCA...\n",
      "Calculating doublet scores...\n",
      "Automatically set threshold at doublet score = 0.39\n",
      "Detected doublet rate = 2.1%\n",
      "Estimated detectable doublet fraction = 32.0%\n",
      "Overall doublet rate:\n",
      "\tExpected   = 10.0%\n",
      "\tEstimated  = 6.6%\n",
      "Elapsed time: 2.9 seconds\n",
      "/projects/p31666/zzhang/doublet-bchmk/data/bchmk_paper_real_data/hm-6k/hm-6k.mtx\n",
      "Preprocessing...\n"
     ]
    },
    {
     "name": "stderr",
     "output_type": "stream",
     "text": [
      "/home/zzj4347/softwares/anaconda3/envs/doublet-bchmk/lib/python3.7/site-packages/scrublet/helper_functions.py:241: RuntimeWarning: invalid value encountered in log\n",
      "  gLog = lambda input: np.log(input[1] * np.exp(-input[0]) + input[2])\n"
     ]
    },
    {
     "name": "stdout",
     "output_type": "stream",
     "text": [
      "Simulating doublets...\n",
      "Embedding transcriptomes using PCA...\n",
      "Calculating doublet scores...\n",
      "Automatically set threshold at doublet score = 0.41\n",
      "Detected doublet rate = 2.4%\n",
      "Estimated detectable doublet fraction = 51.2%\n",
      "Overall doublet rate:\n",
      "\tExpected   = 10.0%\n",
      "\tEstimated  = 4.7%\n",
      "Elapsed time: 13.9 seconds\n",
      "/projects/p31666/zzhang/doublet-bchmk/data/bchmk_paper_real_data/cline-ch/cline-ch.mtx\n",
      "Preprocessing...\n",
      "Simulating doublets...\n",
      "Embedding transcriptomes using PCA...\n",
      "Calculating doublet scores...\n",
      "Automatically set threshold at doublet score = 0.33\n",
      "Detected doublet rate = 3.6%\n",
      "Estimated detectable doublet fraction = 58.1%\n",
      "Overall doublet rate:\n",
      "\tExpected   = 10.0%\n",
      "\tEstimated  = 6.1%\n",
      "Elapsed time: 13.3 seconds\n",
      "/projects/p31666/zzhang/doublet-bchmk/data/bchmk_paper_real_data/HEK-HMEC-MULTI/HEK-HMEC-MULTI.mtx\n",
      "Preprocessing...\n"
     ]
    },
    {
     "name": "stderr",
     "output_type": "stream",
     "text": [
      "/home/zzj4347/softwares/anaconda3/envs/doublet-bchmk/lib/python3.7/site-packages/scrublet/helper_functions.py:241: RuntimeWarning: invalid value encountered in log\n",
      "  gLog = lambda input: np.log(input[1] * np.exp(-input[0]) + input[2])\n"
     ]
    },
    {
     "name": "stdout",
     "output_type": "stream",
     "text": [
      "Simulating doublets...\n",
      "Embedding transcriptomes using PCA...\n",
      "Calculating doublet scores...\n",
      "Automatically set threshold at doublet score = 0.44\n",
      "Detected doublet rate = 2.1%\n",
      "Estimated detectable doublet fraction = 54.5%\n",
      "Overall doublet rate:\n",
      "\tExpected   = 10.0%\n",
      "\tEstimated  = 3.9%\n",
      "Elapsed time: 26.9 seconds\n",
      "/projects/p31666/zzhang/doublet-bchmk/data/bchmk_paper_real_data/nuc-MULTI/nuc-MULTI.mtx\n",
      "Preprocessing...\n",
      "Simulating doublets...\n",
      "Embedding transcriptomes using PCA...\n",
      "Calculating doublet scores...\n",
      "Automatically set threshold at doublet score = 0.63\n",
      "Detected doublet rate = 0.4%\n",
      "Estimated detectable doublet fraction = 10.3%\n",
      "Overall doublet rate:\n",
      "\tExpected   = 10.0%\n",
      "\tEstimated  = 4.3%\n",
      "Elapsed time: 4.6 seconds\n",
      "INFO: Finished benchmarking datasets from benchmarking paper!\n"
     ]
    }
   ],
   "source": [
    "################################\n",
    "#                              #\n",
    "#       Input Parameters       #\n",
    "#                              #\n",
    "################################\n",
    "root_dir = \"/projects/p31666/zzhang/doublet-bchmk/data/fatemap_data\"\n",
    "out_dir = \"/projects/p31666/zzhang/doublet-bchmk/final\"\n",
    "METHOD_ID = \"scrublet\"\n",
    "root_bchmk_dataset = \"/projects/p31666/zzhang/doublet-bchmk/data/bchmk_paper_real_data\"\n",
    "num_test = 1\n",
    "\n",
    "\n",
    "################################\n",
    "#                              #\n",
    "#             Main             #\n",
    "#                              #\n",
    "################################\n",
    "\n",
    "def main(root_dir, METHOD_ID, out_dir):\n",
    "    out_dfs = []\n",
    "    out_stats = []\n",
    "    all_bchmk_datasets_dirs = [os.path.join(root_bchmk_dataset, x) for x in next(os.walk(root_bchmk_dataset))[1]]\n",
    "    print(\"INFO: Benchmarking datasets from benchmarking paper!\")\n",
    "    for cur_dataset_dir in all_bchmk_datasets_dirs:\n",
    "        dataset_id = cur_dataset_dir.split(\"/\")[-1]\n",
    "        cur_out_df = run_bchmk_on_bchmk_data(cur_dataset_dir, dataset_id, num_to_test=num_test)\n",
    "        cur_out_df[\"dbl_exp\"] = \"NA\"\n",
    "        cur_out_df[\"dbl_act\"] = \"NA\"\n",
    "        out_dfs.append(cur_out_df)\n",
    "    print(\"INFO: Finished benchmarking datasets from benchmarking paper!\")\n",
    "    \n",
    "#     all_detection_rates_file = os.path.join(out_dir, METHOD_ID, \"stats\", \"all_detection_rates_original_benchmarking.tsv\")\n",
    "    all_detection_rates_file = os.path.join(out_dir, METHOD_ID, \"stats\", \"all_detection_rates_original_benchmarking_no_mod.tsv\")\n",
    "    all_datasets_dirs = [os.path.join(root_dir, x) for x in next(os.walk(root_dir))[1]]\n",
    "    all_df = pd.concat(out_dfs)\n",
    "    all_df.to_csv(all_detection_rates_file, sep=\"\\t\", index=False)\n",
    "    return True\n",
    "\n",
    "\n",
    "if __name__ == \"__main__\":\n",
    "    main(root_dir, METHOD_ID, out_dir)"
   ]
  },
  {
   "cell_type": "code",
   "execution_count": null,
   "id": "27cf774a",
   "metadata": {},
   "outputs": [],
   "source": []
  }
 ],
 "metadata": {
  "kernelspec": {
   "display_name": "doublet-bchmk",
   "language": "python",
   "name": "doublet-bchmk"
  },
  "language_info": {
   "codemirror_mode": {
    "name": "ipython",
    "version": 3
   },
   "file_extension": ".py",
   "mimetype": "text/x-python",
   "name": "python",
   "nbconvert_exporter": "python",
   "pygments_lexer": "ipython3",
   "version": "3.7.12"
  }
 },
 "nbformat": 4,
 "nbformat_minor": 5
}
