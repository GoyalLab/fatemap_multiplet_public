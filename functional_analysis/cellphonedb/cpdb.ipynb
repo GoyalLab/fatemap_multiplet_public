{
 "cells": [
  {
   "cell_type": "code",
   "execution_count": 21,
   "id": "5590c18a",
   "metadata": {},
   "outputs": [],
   "source": [
    "import scanpy as sc\n",
    "import pandas as pd\n",
    "import glob\n",
    "import os\n",
    "from cellphonedb.src.core.methods import cpdb_analysis_method\n",
    "from cellphonedb.src.core.methods import cpdb_statistical_analysis_method\n"
   ]
  },
  {
   "cell_type": "code",
   "execution_count": 7,
   "id": "476d61f5",
   "metadata": {},
   "outputs": [],
   "source": [
    "cpdb_version = 'v5.0.0'\n",
    "cpdb_target_dir = \"/projects/b1042/GoyalLab/zzhang/cpdb_database\""
   ]
  },
  {
   "cell_type": "code",
   "execution_count": 30,
   "id": "feacde06",
   "metadata": {},
   "outputs": [],
   "source": [
    "root_dir = \"/projects/b1042/GoyalLab/zzhang/functional_analysis_renamed\"\n",
    "cpdb_file_path = '/projects/b1042/GoyalLab/zzhang/cpdb_database/cellphonedb.zip'\n",
    "output_dir = \"/projects/p31666/zzhang/doublet-bchmk/data/cpdb_stats\""
   ]
  },
  {
   "cell_type": "code",
   "execution_count": 25,
   "id": "1374bb2c",
   "metadata": {},
   "outputs": [
    {
     "data": {
      "text/plain": [
       "16"
      ]
     },
     "execution_count": 25,
     "metadata": {},
     "output_type": "execute_result"
    }
   ],
   "source": [
    "count_files = [os.path.join(root_dir, file) for file in os.listdir(root_dir) if file.endswith(\".txt\")]\n",
    "keywords = [\"TREX\", \"SPLINTR\", \"LARRY\", \"cellTag\"]\n",
    "large_count_files = [os.path.join(root_dir, file) for file in count_files if any(keyword in file for keyword in keywords)]\n",
    "len(non_large_count_files)"
   ]
  },
  {
   "cell_type": "code",
   "execution_count": 32,
   "id": "95f625e5",
   "metadata": {},
   "outputs": [
    {
     "name": "stdout",
     "output_type": "stream",
     "text": [
      "Reading user files...\n",
      "The following user files were loaded successfully:\n",
      "/projects/b1042/GoyalLab/zzhang/functional_analysis_renamed/FM08___control.txt\n",
      "/projects/b1042/GoyalLab/zzhang/functional_analysis_renamed/FM08___control_meta.csv\n",
      "[ ][CORE][15/05/24-23:06:52][INFO] [Cluster Statistical Analysis] Threshold:0.1 Iterations:1000 Debug-seed:-1 Threads:4 Precision:3\n",
      "[ ][CORE][15/05/24-23:06:52][INFO] Running Real Analysis\n",
      "[ ][CORE][15/05/24-23:06:52][INFO] Running Statistical Analysis\n"
     ]
    },
    {
     "name": "stderr",
     "output_type": "stream",
     "text": [
      "100%|██████████| 1000/1000 [00:32<00:00, 30.42it/s]\n"
     ]
    },
    {
     "name": "stdout",
     "output_type": "stream",
     "text": [
      "[ ][CORE][15/05/24-23:07:27][INFO] Building Pvalues result\n",
      "[ ][CORE][15/05/24-23:07:27][INFO] Building results\n",
      "Saved deconvoluted to /projects/p31666/zzhang/doublet-bchmk/data/cpdb_stats/FM08___control/statistical_analysis_deconvoluted_05_15_2024_230727.txt\n",
      "Saved deconvoluted_percents to /projects/p31666/zzhang/doublet-bchmk/data/cpdb_stats/FM08___control/statistical_analysis_deconvoluted_percents_05_15_2024_230727.txt\n",
      "Saved means to /projects/p31666/zzhang/doublet-bchmk/data/cpdb_stats/FM08___control/statistical_analysis_means_05_15_2024_230727.txt\n",
      "Saved pvalues to /projects/p31666/zzhang/doublet-bchmk/data/cpdb_stats/FM08___control/statistical_analysis_pvalues_05_15_2024_230727.txt\n",
      "Saved significant_means to /projects/p31666/zzhang/doublet-bchmk/data/cpdb_stats/FM08___control/statistical_analysis_significant_means_05_15_2024_230727.txt\n",
      "Reading user files...\n",
      "The following user files were loaded successfully:\n",
      "/projects/b1042/GoyalLab/zzhang/functional_analysis_renamed/FM08___forty.txt\n",
      "/projects/b1042/GoyalLab/zzhang/functional_analysis_renamed/FM08___forty_meta.csv\n",
      "[ ][CORE][15/05/24-23:08:10][INFO] [Cluster Statistical Analysis] Threshold:0.1 Iterations:1000 Debug-seed:-1 Threads:4 Precision:3\n",
      "[ ][CORE][15/05/24-23:08:10][INFO] Running Real Analysis\n",
      "[ ][CORE][15/05/24-23:08:10][INFO] Running Statistical Analysis\n"
     ]
    },
    {
     "name": "stderr",
     "output_type": "stream",
     "text": [
      "100%|██████████| 1000/1000 [01:15<00:00, 13.19it/s]\n"
     ]
    },
    {
     "name": "stdout",
     "output_type": "stream",
     "text": [
      "[ ][CORE][15/05/24-23:09:28][INFO] Building Pvalues result\n",
      "[ ][CORE][15/05/24-23:09:29][INFO] Building results\n",
      "Saved deconvoluted to /projects/p31666/zzhang/doublet-bchmk/data/cpdb_stats/FM08___forty/statistical_analysis_deconvoluted_05_15_2024_230929.txt\n",
      "Saved deconvoluted_percents to /projects/p31666/zzhang/doublet-bchmk/data/cpdb_stats/FM08___forty/statistical_analysis_deconvoluted_percents_05_15_2024_230929.txt\n",
      "Saved means to /projects/p31666/zzhang/doublet-bchmk/data/cpdb_stats/FM08___forty/statistical_analysis_means_05_15_2024_230929.txt\n",
      "Saved pvalues to /projects/p31666/zzhang/doublet-bchmk/data/cpdb_stats/FM08___forty/statistical_analysis_pvalues_05_15_2024_230929.txt\n",
      "Saved significant_means to /projects/p31666/zzhang/doublet-bchmk/data/cpdb_stats/FM08___forty/statistical_analysis_significant_means_05_15_2024_230929.txt\n",
      "AAAA\n",
      "/projects/b1042/GoyalLab/zzhang/functional_analysis_renamed/cellTag___ten.txt\n",
      "AAAA\n",
      "AAAA\n",
      "/projects/b1042/GoyalLab/zzhang/functional_analysis_renamed/TREX___ten.txt\n",
      "AAAA\n",
      "AAAA\n",
      "/projects/b1042/GoyalLab/zzhang/functional_analysis_renamed/LARRY___forty.txt\n",
      "AAAA\n",
      "Reading user files...\n",
      "The following user files were loaded successfully:\n",
      "/projects/b1042/GoyalLab/zzhang/functional_analysis_renamed/FM04___ten.txt\n",
      "/projects/b1042/GoyalLab/zzhang/functional_analysis_renamed/FM04___ten_meta.csv\n",
      "[ ][CORE][15/05/24-23:10:59][INFO] [Cluster Statistical Analysis] Threshold:0.1 Iterations:1000 Debug-seed:-1 Threads:4 Precision:3\n",
      "[ ][CORE][15/05/24-23:11:00][INFO] Running Real Analysis\n",
      "[ ][CORE][15/05/24-23:11:00][INFO] Running Statistical Analysis\n"
     ]
    },
    {
     "name": "stderr",
     "output_type": "stream",
     "text": [
      "100%|██████████| 1000/1000 [02:37<00:00,  6.35it/s]\n"
     ]
    },
    {
     "name": "stdout",
     "output_type": "stream",
     "text": [
      "[ ][CORE][15/05/24-23:13:39][INFO] Building Pvalues result\n",
      "[ ][CORE][15/05/24-23:13:39][INFO] Building results\n",
      "Saved deconvoluted to /projects/p31666/zzhang/doublet-bchmk/data/cpdb_stats/FM04___ten/statistical_analysis_deconvoluted_05_15_2024_231340.txt\n",
      "Saved deconvoluted_percents to /projects/p31666/zzhang/doublet-bchmk/data/cpdb_stats/FM04___ten/statistical_analysis_deconvoluted_percents_05_15_2024_231340.txt\n",
      "Saved means to /projects/p31666/zzhang/doublet-bchmk/data/cpdb_stats/FM04___ten/statistical_analysis_means_05_15_2024_231340.txt\n",
      "Saved pvalues to /projects/p31666/zzhang/doublet-bchmk/data/cpdb_stats/FM04___ten/statistical_analysis_pvalues_05_15_2024_231340.txt\n",
      "Saved significant_means to /projects/p31666/zzhang/doublet-bchmk/data/cpdb_stats/FM04___ten/statistical_analysis_significant_means_05_15_2024_231340.txt\n",
      "Reading user files...\n",
      "The following user files were loaded successfully:\n",
      "/projects/b1042/GoyalLab/zzhang/functional_analysis_renamed/FM08___twenty.txt\n",
      "/projects/b1042/GoyalLab/zzhang/functional_analysis_renamed/FM08___twenty_meta.csv\n",
      "[ ][CORE][15/05/24-23:14:10][INFO] [Cluster Statistical Analysis] Threshold:0.1 Iterations:1000 Debug-seed:-1 Threads:4 Precision:3\n",
      "[ ][CORE][15/05/24-23:14:11][INFO] Running Real Analysis\n",
      "[ ][CORE][15/05/24-23:14:11][INFO] Running Statistical Analysis\n"
     ]
    },
    {
     "name": "stderr",
     "output_type": "stream",
     "text": [
      "100%|██████████| 1000/1000 [00:43<00:00, 22.89it/s]\n"
     ]
    },
    {
     "name": "stdout",
     "output_type": "stream",
     "text": [
      "[ ][CORE][15/05/24-23:14:56][INFO] Building Pvalues result\n",
      "[ ][CORE][15/05/24-23:14:56][INFO] Building results\n",
      "Saved deconvoluted to /projects/p31666/zzhang/doublet-bchmk/data/cpdb_stats/FM08___twenty/statistical_analysis_deconvoluted_05_15_2024_231457.txt\n",
      "Saved deconvoluted_percents to /projects/p31666/zzhang/doublet-bchmk/data/cpdb_stats/FM08___twenty/statistical_analysis_deconvoluted_percents_05_15_2024_231457.txt\n",
      "Saved means to /projects/p31666/zzhang/doublet-bchmk/data/cpdb_stats/FM08___twenty/statistical_analysis_means_05_15_2024_231457.txt\n",
      "Saved pvalues to /projects/p31666/zzhang/doublet-bchmk/data/cpdb_stats/FM08___twenty/statistical_analysis_pvalues_05_15_2024_231457.txt\n",
      "Saved significant_means to /projects/p31666/zzhang/doublet-bchmk/data/cpdb_stats/FM08___twenty/statistical_analysis_significant_means_05_15_2024_231457.txt\n",
      "Reading user files...\n",
      "The following user files were loaded successfully:\n",
      "/projects/b1042/GoyalLab/zzhang/functional_analysis_renamed/FM06___control.txt\n",
      "/projects/b1042/GoyalLab/zzhang/functional_analysis_renamed/FM06___control_meta.csv\n",
      "[ ][CORE][15/05/24-23:16:39][INFO] [Cluster Statistical Analysis] Threshold:0.1 Iterations:1000 Debug-seed:-1 Threads:4 Precision:3\n",
      "[ ][CORE][15/05/24-23:16:40][INFO] Running Real Analysis\n",
      "[ ][CORE][15/05/24-23:16:40][INFO] Running Statistical Analysis\n"
     ]
    },
    {
     "name": "stderr",
     "output_type": "stream",
     "text": [
      "100%|██████████| 1000/1000 [01:39<00:00, 10.01it/s]\n"
     ]
    },
    {
     "name": "stdout",
     "output_type": "stream",
     "text": [
      "[ ][CORE][15/05/24-23:18:22][INFO] Building Pvalues result\n",
      "[ ][CORE][15/05/24-23:18:23][INFO] Building results\n",
      "Saved deconvoluted to /projects/p31666/zzhang/doublet-bchmk/data/cpdb_stats/FM06___control/statistical_analysis_deconvoluted_05_15_2024_231823.txt\n",
      "Saved deconvoluted_percents to /projects/p31666/zzhang/doublet-bchmk/data/cpdb_stats/FM06___control/statistical_analysis_deconvoluted_percents_05_15_2024_231823.txt\n",
      "Saved means to /projects/p31666/zzhang/doublet-bchmk/data/cpdb_stats/FM06___control/statistical_analysis_means_05_15_2024_231823.txt\n",
      "Saved pvalues to /projects/p31666/zzhang/doublet-bchmk/data/cpdb_stats/FM06___control/statistical_analysis_pvalues_05_15_2024_231823.txt\n",
      "Saved significant_means to /projects/p31666/zzhang/doublet-bchmk/data/cpdb_stats/FM06___control/statistical_analysis_significant_means_05_15_2024_231823.txt\n",
      "AAAA\n",
      "/projects/b1042/GoyalLab/zzhang/functional_analysis_renamed/TREX___twenty.txt\n",
      "AAAA\n",
      "Reading user files...\n",
      "The following user files were loaded successfully:\n",
      "/projects/b1042/GoyalLab/zzhang/functional_analysis_renamed/ClonMapper___control.txt\n",
      "/projects/b1042/GoyalLab/zzhang/functional_analysis_renamed/ClonMapper___control_meta.csv\n",
      "[ ][CORE][15/05/24-23:19:11][INFO] [Cluster Statistical Analysis] Threshold:0.1 Iterations:1000 Debug-seed:-1 Threads:4 Precision:3\n",
      "[ ][CORE][15/05/24-23:19:12][INFO] Running Real Analysis\n",
      "[ ][CORE][15/05/24-23:19:12][INFO] Running Statistical Analysis\n"
     ]
    },
    {
     "name": "stderr",
     "output_type": "stream",
     "text": [
      "100%|██████████| 1000/1000 [01:09<00:00, 14.43it/s]\n"
     ]
    },
    {
     "name": "stdout",
     "output_type": "stream",
     "text": [
      "[ ][CORE][15/05/24-23:20:23][INFO] Building Pvalues result\n",
      "[ ][CORE][15/05/24-23:20:23][INFO] Building results\n",
      "Saved deconvoluted to /projects/p31666/zzhang/doublet-bchmk/data/cpdb_stats/ClonMapper___control/statistical_analysis_deconvoluted_05_15_2024_232024.txt\n",
      "Saved deconvoluted_percents to /projects/p31666/zzhang/doublet-bchmk/data/cpdb_stats/ClonMapper___control/statistical_analysis_deconvoluted_percents_05_15_2024_232024.txt\n",
      "Saved means to /projects/p31666/zzhang/doublet-bchmk/data/cpdb_stats/ClonMapper___control/statistical_analysis_means_05_15_2024_232024.txt\n",
      "Saved pvalues to /projects/p31666/zzhang/doublet-bchmk/data/cpdb_stats/ClonMapper___control/statistical_analysis_pvalues_05_15_2024_232024.txt\n",
      "Saved significant_means to /projects/p31666/zzhang/doublet-bchmk/data/cpdb_stats/ClonMapper___control/statistical_analysis_significant_means_05_15_2024_232024.txt\n",
      "AAAA\n",
      "/projects/b1042/GoyalLab/zzhang/functional_analysis_renamed/SPLINTR___twenty.txt\n",
      "AAAA\n",
      "Reading user files...\n",
      "The following user files were loaded successfully:\n",
      "/projects/b1042/GoyalLab/zzhang/functional_analysis_renamed/non_cancer___forty.txt\n",
      "/projects/b1042/GoyalLab/zzhang/functional_analysis_renamed/non_cancer___forty_meta.csv\n",
      "[ ][CORE][15/05/24-23:21:02][INFO] [Cluster Statistical Analysis] Threshold:0.1 Iterations:1000 Debug-seed:-1 Threads:4 Precision:3\n",
      "[ ][CORE][15/05/24-23:21:02][INFO] Running Real Analysis\n",
      "[ ][CORE][15/05/24-23:21:02][INFO] Running Statistical Analysis\n"
     ]
    },
    {
     "name": "stderr",
     "output_type": "stream",
     "text": [
      "100%|██████████| 1000/1000 [00:52<00:00, 19.18it/s]\n"
     ]
    },
    {
     "name": "stdout",
     "output_type": "stream",
     "text": [
      "[ ][CORE][15/05/24-23:21:57][INFO] Building Pvalues result\n",
      "[ ][CORE][15/05/24-23:21:57][INFO] Building results\n",
      "Saved deconvoluted to /projects/p31666/zzhang/doublet-bchmk/data/cpdb_stats/non_cancer___forty/statistical_analysis_deconvoluted_05_15_2024_232157.txt\n",
      "Saved deconvoluted_percents to /projects/p31666/zzhang/doublet-bchmk/data/cpdb_stats/non_cancer___forty/statistical_analysis_deconvoluted_percents_05_15_2024_232157.txt\n",
      "Saved means to /projects/p31666/zzhang/doublet-bchmk/data/cpdb_stats/non_cancer___forty/statistical_analysis_means_05_15_2024_232157.txt\n",
      "Saved pvalues to /projects/p31666/zzhang/doublet-bchmk/data/cpdb_stats/non_cancer___forty/statistical_analysis_pvalues_05_15_2024_232157.txt\n",
      "Saved significant_means to /projects/p31666/zzhang/doublet-bchmk/data/cpdb_stats/non_cancer___forty/statistical_analysis_significant_means_05_15_2024_232157.txt\n",
      "Reading user files...\n",
      "The following user files were loaded successfully:\n",
      "/projects/b1042/GoyalLab/zzhang/functional_analysis_renamed/watermelon___ten.txt\n",
      "/projects/b1042/GoyalLab/zzhang/functional_analysis_renamed/watermelon___ten_meta.csv\n",
      "[ ][CORE][15/05/24-23:34:17][INFO] [Cluster Statistical Analysis] Threshold:0.1 Iterations:1000 Debug-seed:-1 Threads:4 Precision:3\n",
      "[ ][CORE][15/05/24-23:34:18][INFO] Running Real Analysis\n",
      "[ ][CORE][15/05/24-23:34:18][INFO] Running Statistical Analysis\n"
     ]
    },
    {
     "name": "stderr",
     "output_type": "stream",
     "text": [
      "100%|██████████| 1000/1000 [06:15<00:00,  2.67it/s]\n"
     ]
    },
    {
     "name": "stdout",
     "output_type": "stream",
     "text": [
      "[ ][CORE][15/05/24-23:40:36][INFO] Building Pvalues result\n",
      "[ ][CORE][15/05/24-23:40:36][INFO] Building results\n",
      "Saved deconvoluted to /projects/p31666/zzhang/doublet-bchmk/data/cpdb_stats/watermelon___ten/statistical_analysis_deconvoluted_05_15_2024_234036.txt\n",
      "Saved deconvoluted_percents to /projects/p31666/zzhang/doublet-bchmk/data/cpdb_stats/watermelon___ten/statistical_analysis_deconvoluted_percents_05_15_2024_234036.txt\n",
      "Saved means to /projects/p31666/zzhang/doublet-bchmk/data/cpdb_stats/watermelon___ten/statistical_analysis_means_05_15_2024_234036.txt\n",
      "Saved pvalues to /projects/p31666/zzhang/doublet-bchmk/data/cpdb_stats/watermelon___ten/statistical_analysis_pvalues_05_15_2024_234036.txt\n",
      "Saved significant_means to /projects/p31666/zzhang/doublet-bchmk/data/cpdb_stats/watermelon___ten/statistical_analysis_significant_means_05_15_2024_234036.txt\n",
      "AAAA\n",
      "/projects/b1042/GoyalLab/zzhang/functional_analysis_renamed/SPLINTR___ten.txt\n",
      "AAAA\n",
      "Reading user files...\n",
      "The following user files were loaded successfully:\n",
      "/projects/b1042/GoyalLab/zzhang/functional_analysis_renamed/FM04___twenty.txt\n",
      "/projects/b1042/GoyalLab/zzhang/functional_analysis_renamed/FM04___twenty_meta.csv\n",
      "[ ][CORE][15/05/24-23:42:11][INFO] [Cluster Statistical Analysis] Threshold:0.1 Iterations:1000 Debug-seed:-1 Threads:4 Precision:3\n",
      "[ ][CORE][15/05/24-23:42:12][INFO] Running Real Analysis\n",
      "[ ][CORE][15/05/24-23:42:12][INFO] Running Statistical Analysis\n"
     ]
    },
    {
     "name": "stderr",
     "output_type": "stream",
     "text": [
      "100%|██████████| 1000/1000 [02:08<00:00,  7.79it/s]\n"
     ]
    },
    {
     "name": "stdout",
     "output_type": "stream",
     "text": [
      "[ ][CORE][15/05/24-23:44:23][INFO] Building Pvalues result\n",
      "[ ][CORE][15/05/24-23:44:23][INFO] Building results\n",
      "Saved deconvoluted to /projects/p31666/zzhang/doublet-bchmk/data/cpdb_stats/FM04___twenty/statistical_analysis_deconvoluted_05_15_2024_234423.txt\n",
      "Saved deconvoluted_percents to /projects/p31666/zzhang/doublet-bchmk/data/cpdb_stats/FM04___twenty/statistical_analysis_deconvoluted_percents_05_15_2024_234423.txt\n",
      "Saved means to /projects/p31666/zzhang/doublet-bchmk/data/cpdb_stats/FM04___twenty/statistical_analysis_means_05_15_2024_234423.txt\n",
      "Saved pvalues to /projects/p31666/zzhang/doublet-bchmk/data/cpdb_stats/FM04___twenty/statistical_analysis_pvalues_05_15_2024_234423.txt\n",
      "Saved significant_means to /projects/p31666/zzhang/doublet-bchmk/data/cpdb_stats/FM04___twenty/statistical_analysis_significant_means_05_15_2024_234423.txt\n",
      "Reading user files...\n",
      "The following user files were loaded successfully:\n",
      "/projects/b1042/GoyalLab/zzhang/functional_analysis_renamed/FM02___control.txt\n",
      "/projects/b1042/GoyalLab/zzhang/functional_analysis_renamed/FM02___control_meta.csv\n",
      "[ ][CORE][15/05/24-23:45:40][INFO] [Cluster Statistical Analysis] Threshold:0.1 Iterations:1000 Debug-seed:-1 Threads:4 Precision:3\n",
      "[ ][CORE][15/05/24-23:45:41][INFO] Running Real Analysis\n",
      "[ ][CORE][15/05/24-23:45:41][INFO] Running Statistical Analysis\n"
     ]
    },
    {
     "name": "stderr",
     "output_type": "stream",
     "text": [
      "100%|██████████| 1000/1000 [01:19<00:00, 12.52it/s]\n"
     ]
    },
    {
     "name": "stdout",
     "output_type": "stream",
     "text": [
      "[ ][CORE][15/05/24-23:47:03][INFO] Building Pvalues result\n",
      "[ ][CORE][15/05/24-23:47:04][INFO] Building results\n",
      "Saved deconvoluted to /projects/p31666/zzhang/doublet-bchmk/data/cpdb_stats/FM02___control/statistical_analysis_deconvoluted_05_15_2024_234704.txt\n",
      "Saved deconvoluted_percents to /projects/p31666/zzhang/doublet-bchmk/data/cpdb_stats/FM02___control/statistical_analysis_deconvoluted_percents_05_15_2024_234704.txt\n",
      "Saved means to /projects/p31666/zzhang/doublet-bchmk/data/cpdb_stats/FM02___control/statistical_analysis_means_05_15_2024_234704.txt\n",
      "Saved pvalues to /projects/p31666/zzhang/doublet-bchmk/data/cpdb_stats/FM02___control/statistical_analysis_pvalues_05_15_2024_234704.txt\n",
      "Saved significant_means to /projects/p31666/zzhang/doublet-bchmk/data/cpdb_stats/FM02___control/statistical_analysis_significant_means_05_15_2024_234704.txt\n",
      "Reading user files...\n",
      "The following user files were loaded successfully:\n",
      "/projects/b1042/GoyalLab/zzhang/functional_analysis_renamed/watermelon___forty.txt\n",
      "/projects/b1042/GoyalLab/zzhang/functional_analysis_renamed/watermelon___forty_meta.csv\n",
      "[ ][CORE][16/05/24-00:05:34][INFO] [Cluster Statistical Analysis] Threshold:0.1 Iterations:1000 Debug-seed:-1 Threads:4 Precision:3\n",
      "[ ][CORE][16/05/24-00:05:37][INFO] Running Real Analysis\n",
      "[ ][CORE][16/05/24-00:05:37][INFO] Running Statistical Analysis\n"
     ]
    },
    {
     "name": "stderr",
     "output_type": "stream",
     "text": [
      "100%|██████████| 1000/1000 [09:43<00:00,  1.71it/s]\n"
     ]
    },
    {
     "name": "stdout",
     "output_type": "stream",
     "text": [
      "[ ][CORE][16/05/24-00:15:23][INFO] Building Pvalues result\n",
      "[ ][CORE][16/05/24-00:15:23][INFO] Building results\n",
      "Saved deconvoluted to /projects/p31666/zzhang/doublet-bchmk/data/cpdb_stats/watermelon___forty/statistical_analysis_deconvoluted_05_16_2024_001523.txt\n",
      "Saved deconvoluted_percents to /projects/p31666/zzhang/doublet-bchmk/data/cpdb_stats/watermelon___forty/statistical_analysis_deconvoluted_percents_05_16_2024_001523.txt\n",
      "Saved means to /projects/p31666/zzhang/doublet-bchmk/data/cpdb_stats/watermelon___forty/statistical_analysis_means_05_16_2024_001523.txt\n",
      "Saved pvalues to /projects/p31666/zzhang/doublet-bchmk/data/cpdb_stats/watermelon___forty/statistical_analysis_pvalues_05_16_2024_001523.txt\n",
      "Saved significant_means to /projects/p31666/zzhang/doublet-bchmk/data/cpdb_stats/watermelon___forty/statistical_analysis_significant_means_05_16_2024_001523.txt\n",
      "Reading user files...\n",
      "The following user files were loaded successfully:\n",
      "/projects/b1042/GoyalLab/zzhang/functional_analysis_renamed/ClonMapper___forty.txt\n",
      "/projects/b1042/GoyalLab/zzhang/functional_analysis_renamed/ClonMapper___forty_meta.csv\n",
      "[ ][CORE][16/05/24-00:17:05][INFO] [Cluster Statistical Analysis] Threshold:0.1 Iterations:1000 Debug-seed:-1 Threads:4 Precision:3\n",
      "[ ][CORE][16/05/24-00:17:06][INFO] Running Real Analysis\n",
      "[ ][CORE][16/05/24-00:17:06][INFO] Running Statistical Analysis\n"
     ]
    },
    {
     "name": "stderr",
     "output_type": "stream",
     "text": [
      "100%|██████████| 1000/1000 [02:11<00:00,  7.61it/s]\n"
     ]
    },
    {
     "name": "stdout",
     "output_type": "stream",
     "text": [
      "[ ][CORE][16/05/24-00:19:20][INFO] Building Pvalues result\n",
      "[ ][CORE][16/05/24-00:19:20][INFO] Building results\n",
      "Saved deconvoluted to /projects/p31666/zzhang/doublet-bchmk/data/cpdb_stats/ClonMapper___forty/statistical_analysis_deconvoluted_05_16_2024_001920.txt\n",
      "Saved deconvoluted_percents to /projects/p31666/zzhang/doublet-bchmk/data/cpdb_stats/ClonMapper___forty/statistical_analysis_deconvoluted_percents_05_16_2024_001920.txt\n",
      "Saved means to /projects/p31666/zzhang/doublet-bchmk/data/cpdb_stats/ClonMapper___forty/statistical_analysis_means_05_16_2024_001920.txt\n",
      "Saved pvalues to /projects/p31666/zzhang/doublet-bchmk/data/cpdb_stats/ClonMapper___forty/statistical_analysis_pvalues_05_16_2024_001920.txt\n",
      "Saved significant_means to /projects/p31666/zzhang/doublet-bchmk/data/cpdb_stats/ClonMapper___forty/statistical_analysis_significant_means_05_16_2024_001920.txt\n",
      "Reading user files...\n",
      "The following user files were loaded successfully:\n",
      "/projects/b1042/GoyalLab/zzhang/functional_analysis_renamed/watermelon___twenty.txt\n",
      "/projects/b1042/GoyalLab/zzhang/functional_analysis_renamed/watermelon___twenty_meta.csv\n",
      "[ ][CORE][16/05/24-00:33:01][INFO] [Cluster Statistical Analysis] Threshold:0.1 Iterations:1000 Debug-seed:-1 Threads:4 Precision:3\n",
      "[ ][CORE][16/05/24-00:33:03][INFO] Running Real Analysis\n",
      "[ ][CORE][16/05/24-00:33:03][INFO] Running Statistical Analysis\n"
     ]
    },
    {
     "name": "stderr",
     "output_type": "stream",
     "text": [
      "100%|██████████| 1000/1000 [07:10<00:00,  2.32it/s]\n"
     ]
    },
    {
     "name": "stdout",
     "output_type": "stream",
     "text": [
      "[ ][CORE][16/05/24-00:40:17][INFO] Building Pvalues result\n",
      "[ ][CORE][16/05/24-00:40:17][INFO] Building results\n",
      "Saved deconvoluted to /projects/p31666/zzhang/doublet-bchmk/data/cpdb_stats/watermelon___twenty/statistical_analysis_deconvoluted_05_16_2024_004017.txt\n",
      "Saved deconvoluted_percents to /projects/p31666/zzhang/doublet-bchmk/data/cpdb_stats/watermelon___twenty/statistical_analysis_deconvoluted_percents_05_16_2024_004017.txt\n",
      "Saved means to /projects/p31666/zzhang/doublet-bchmk/data/cpdb_stats/watermelon___twenty/statistical_analysis_means_05_16_2024_004017.txt\n",
      "Saved pvalues to /projects/p31666/zzhang/doublet-bchmk/data/cpdb_stats/watermelon___twenty/statistical_analysis_pvalues_05_16_2024_004017.txt\n",
      "Saved significant_means to /projects/p31666/zzhang/doublet-bchmk/data/cpdb_stats/watermelon___twenty/statistical_analysis_significant_means_05_16_2024_004017.txt\n",
      "Reading user files...\n",
      "The following user files were loaded successfully:\n",
      "/projects/b1042/GoyalLab/zzhang/functional_analysis_renamed/Biorxiv___control.txt\n",
      "/projects/b1042/GoyalLab/zzhang/functional_analysis_renamed/Biorxiv___control_meta.csv\n",
      "[ ][CORE][16/05/24-00:40:23][INFO] [Cluster Statistical Analysis] Threshold:0.1 Iterations:1000 Debug-seed:-1 Threads:4 Precision:3\n",
      "[ ][CORE][16/05/24-00:40:24][INFO] Running Real Analysis\n",
      "[ ][CORE][16/05/24-00:40:24][INFO] Running Statistical Analysis\n"
     ]
    },
    {
     "name": "stderr",
     "output_type": "stream",
     "text": [
      "100%|██████████| 1000/1000 [00:15<00:00, 64.26it/s]\n"
     ]
    },
    {
     "name": "stdout",
     "output_type": "stream",
     "text": [
      "[ ][CORE][16/05/24-00:40:42][INFO] Building Pvalues result\n",
      "[ ][CORE][16/05/24-00:40:42][INFO] Building results\n",
      "Saved deconvoluted to /projects/p31666/zzhang/doublet-bchmk/data/cpdb_stats/Biorxiv___control/statistical_analysis_deconvoluted_05_16_2024_004042.txt\n",
      "Saved deconvoluted_percents to /projects/p31666/zzhang/doublet-bchmk/data/cpdb_stats/Biorxiv___control/statistical_analysis_deconvoluted_percents_05_16_2024_004042.txt\n",
      "Saved means to /projects/p31666/zzhang/doublet-bchmk/data/cpdb_stats/Biorxiv___control/statistical_analysis_means_05_16_2024_004042.txt\n",
      "Saved pvalues to /projects/p31666/zzhang/doublet-bchmk/data/cpdb_stats/Biorxiv___control/statistical_analysis_pvalues_05_16_2024_004042.txt\n",
      "Saved significant_means to /projects/p31666/zzhang/doublet-bchmk/data/cpdb_stats/Biorxiv___control/statistical_analysis_significant_means_05_16_2024_004042.txt\n",
      "Reading user files...\n",
      "The following user files were loaded successfully:\n",
      "/projects/b1042/GoyalLab/zzhang/functional_analysis_renamed/FM05___forty.txt\n",
      "/projects/b1042/GoyalLab/zzhang/functional_analysis_renamed/FM05___forty_meta.csv\n",
      "[ ][CORE][16/05/24-00:45:17][INFO] [Cluster Statistical Analysis] Threshold:0.1 Iterations:1000 Debug-seed:-1 Threads:4 Precision:3\n",
      "[ ][CORE][16/05/24-00:45:20][INFO] Running Real Analysis\n",
      "[ ][CORE][16/05/24-00:45:20][INFO] Running Statistical Analysis\n"
     ]
    },
    {
     "name": "stderr",
     "output_type": "stream",
     "text": [
      "100%|██████████| 1000/1000 [04:05<00:00,  4.08it/s]\n"
     ]
    },
    {
     "name": "stdout",
     "output_type": "stream",
     "text": [
      "[ ][CORE][16/05/24-00:49:28][INFO] Building Pvalues result\n",
      "[ ][CORE][16/05/24-00:49:28][INFO] Building results\n",
      "Saved deconvoluted to /projects/p31666/zzhang/doublet-bchmk/data/cpdb_stats/FM05___forty/statistical_analysis_deconvoluted_05_16_2024_004928.txt\n",
      "Saved deconvoluted_percents to /projects/p31666/zzhang/doublet-bchmk/data/cpdb_stats/FM05___forty/statistical_analysis_deconvoluted_percents_05_16_2024_004928.txt\n",
      "Saved means to /projects/p31666/zzhang/doublet-bchmk/data/cpdb_stats/FM05___forty/statistical_analysis_means_05_16_2024_004928.txt\n",
      "Saved pvalues to /projects/p31666/zzhang/doublet-bchmk/data/cpdb_stats/FM05___forty/statistical_analysis_pvalues_05_16_2024_004928.txt\n",
      "Saved significant_means to /projects/p31666/zzhang/doublet-bchmk/data/cpdb_stats/FM05___forty/statistical_analysis_significant_means_05_16_2024_004928.txt\n",
      "Reading user files...\n",
      "The following user files were loaded successfully:\n",
      "/projects/b1042/GoyalLab/zzhang/functional_analysis_renamed/Biorxiv___forty.txt\n",
      "/projects/b1042/GoyalLab/zzhang/functional_analysis_renamed/Biorxiv___forty_meta.csv\n",
      "[ ][CORE][16/05/24-00:49:41][INFO] [Cluster Statistical Analysis] Threshold:0.1 Iterations:1000 Debug-seed:-1 Threads:4 Precision:3\n",
      "[ ][CORE][16/05/24-00:49:41][INFO] Running Real Analysis\n",
      "[ ][CORE][16/05/24-00:49:41][INFO] Running Statistical Analysis\n"
     ]
    },
    {
     "name": "stderr",
     "output_type": "stream",
     "text": [
      "100%|██████████| 1000/1000 [00:26<00:00, 37.91it/s]\n"
     ]
    },
    {
     "name": "stdout",
     "output_type": "stream",
     "text": [
      "[ ][CORE][16/05/24-00:50:10][INFO] Building Pvalues result\n",
      "[ ][CORE][16/05/24-00:50:10][INFO] Building results\n",
      "Saved deconvoluted to /projects/p31666/zzhang/doublet-bchmk/data/cpdb_stats/Biorxiv___forty/statistical_analysis_deconvoluted_05_16_2024_005010.txt\n",
      "Saved deconvoluted_percents to /projects/p31666/zzhang/doublet-bchmk/data/cpdb_stats/Biorxiv___forty/statistical_analysis_deconvoluted_percents_05_16_2024_005010.txt\n",
      "Saved means to /projects/p31666/zzhang/doublet-bchmk/data/cpdb_stats/Biorxiv___forty/statistical_analysis_means_05_16_2024_005010.txt\n",
      "Saved pvalues to /projects/p31666/zzhang/doublet-bchmk/data/cpdb_stats/Biorxiv___forty/statistical_analysis_pvalues_05_16_2024_005010.txt\n",
      "Saved significant_means to /projects/p31666/zzhang/doublet-bchmk/data/cpdb_stats/Biorxiv___forty/statistical_analysis_significant_means_05_16_2024_005010.txt\n",
      "Reading user files...\n",
      "The following user files were loaded successfully:\n",
      "/projects/b1042/GoyalLab/zzhang/functional_analysis_renamed/Biorxiv___twenty.txt\n",
      "/projects/b1042/GoyalLab/zzhang/functional_analysis_renamed/Biorxiv___twenty_meta.csv\n",
      "[ ][CORE][16/05/24-00:50:17][INFO] [Cluster Statistical Analysis] Threshold:0.1 Iterations:1000 Debug-seed:-1 Threads:4 Precision:3\n",
      "[ ][CORE][16/05/24-00:50:18][INFO] Running Real Analysis\n",
      "[ ][CORE][16/05/24-00:50:18][INFO] Running Statistical Analysis\n"
     ]
    },
    {
     "name": "stderr",
     "output_type": "stream",
     "text": [
      "100%|██████████| 1000/1000 [00:19<00:00, 50.19it/s]\n"
     ]
    },
    {
     "name": "stdout",
     "output_type": "stream",
     "text": [
      "[ ][CORE][16/05/24-00:50:40][INFO] Building Pvalues result\n",
      "[ ][CORE][16/05/24-00:50:40][INFO] Building results\n",
      "Saved deconvoluted to /projects/p31666/zzhang/doublet-bchmk/data/cpdb_stats/Biorxiv___twenty/statistical_analysis_deconvoluted_05_16_2024_005040.txt\n",
      "Saved deconvoluted_percents to /projects/p31666/zzhang/doublet-bchmk/data/cpdb_stats/Biorxiv___twenty/statistical_analysis_deconvoluted_percents_05_16_2024_005040.txt\n",
      "Saved means to /projects/p31666/zzhang/doublet-bchmk/data/cpdb_stats/Biorxiv___twenty/statistical_analysis_means_05_16_2024_005040.txt\n",
      "Saved pvalues to /projects/p31666/zzhang/doublet-bchmk/data/cpdb_stats/Biorxiv___twenty/statistical_analysis_pvalues_05_16_2024_005040.txt\n",
      "Saved significant_means to /projects/p31666/zzhang/doublet-bchmk/data/cpdb_stats/Biorxiv___twenty/statistical_analysis_significant_means_05_16_2024_005040.txt\n",
      "AAAA\n",
      "/projects/b1042/GoyalLab/zzhang/functional_analysis_renamed/TREX___control.txt\n",
      "AAAA\n",
      "Reading user files...\n",
      "The following user files were loaded successfully:\n",
      "/projects/b1042/GoyalLab/zzhang/functional_analysis_renamed/FM05___control.txt\n",
      "/projects/b1042/GoyalLab/zzhang/functional_analysis_renamed/FM05___control_meta.csv\n",
      "[ ][CORE][16/05/24-00:52:22][INFO] [Cluster Statistical Analysis] Threshold:0.1 Iterations:1000 Debug-seed:-1 Threads:4 Precision:3\n",
      "[ ][CORE][16/05/24-00:52:23][INFO] Running Real Analysis\n",
      "[ ][CORE][16/05/24-00:52:23][INFO] Running Statistical Analysis\n"
     ]
    },
    {
     "name": "stderr",
     "output_type": "stream",
     "text": [
      "100%|██████████| 1000/1000 [01:47<00:00,  9.27it/s]\n"
     ]
    },
    {
     "name": "stdout",
     "output_type": "stream",
     "text": [
      "[ ][CORE][16/05/24-00:54:13][INFO] Building Pvalues result\n",
      "[ ][CORE][16/05/24-00:54:13][INFO] Building results\n",
      "Saved deconvoluted to /projects/p31666/zzhang/doublet-bchmk/data/cpdb_stats/FM05___control/statistical_analysis_deconvoluted_05_16_2024_005413.txt\n",
      "Saved deconvoluted_percents to /projects/p31666/zzhang/doublet-bchmk/data/cpdb_stats/FM05___control/statistical_analysis_deconvoluted_percents_05_16_2024_005413.txt\n",
      "Saved means to /projects/p31666/zzhang/doublet-bchmk/data/cpdb_stats/FM05___control/statistical_analysis_means_05_16_2024_005413.txt\n",
      "Saved pvalues to /projects/p31666/zzhang/doublet-bchmk/data/cpdb_stats/FM05___control/statistical_analysis_pvalues_05_16_2024_005413.txt\n",
      "Saved significant_means to /projects/p31666/zzhang/doublet-bchmk/data/cpdb_stats/FM05___control/statistical_analysis_significant_means_05_16_2024_005413.txt\n",
      "Reading user files...\n",
      "The following user files were loaded successfully:\n",
      "/projects/b1042/GoyalLab/zzhang/functional_analysis_renamed/FM03___forty.txt\n",
      "/projects/b1042/GoyalLab/zzhang/functional_analysis_renamed/FM03___forty_meta.csv\n",
      "[ ][CORE][16/05/24-00:54:46][INFO] [Cluster Statistical Analysis] Threshold:0.1 Iterations:1000 Debug-seed:-1 Threads:4 Precision:3\n",
      "[ ][CORE][16/05/24-00:54:47][INFO] Running Real Analysis\n",
      "[ ][CORE][16/05/24-00:54:47][INFO] Running Statistical Analysis\n"
     ]
    },
    {
     "name": "stderr",
     "output_type": "stream",
     "text": [
      "100%|██████████| 1000/1000 [00:38<00:00, 25.99it/s]\n"
     ]
    },
    {
     "name": "stdout",
     "output_type": "stream",
     "text": [
      "[ ][CORE][16/05/24-00:55:27][INFO] Building Pvalues result\n",
      "[ ][CORE][16/05/24-00:55:28][INFO] Building results\n",
      "Saved deconvoluted to /projects/p31666/zzhang/doublet-bchmk/data/cpdb_stats/FM03___forty/statistical_analysis_deconvoluted_05_16_2024_005528.txt\n",
      "Saved deconvoluted_percents to /projects/p31666/zzhang/doublet-bchmk/data/cpdb_stats/FM03___forty/statistical_analysis_deconvoluted_percents_05_16_2024_005528.txt\n",
      "Saved means to /projects/p31666/zzhang/doublet-bchmk/data/cpdb_stats/FM03___forty/statistical_analysis_means_05_16_2024_005528.txt\n",
      "Saved pvalues to /projects/p31666/zzhang/doublet-bchmk/data/cpdb_stats/FM03___forty/statistical_analysis_pvalues_05_16_2024_005528.txt\n",
      "Saved significant_means to /projects/p31666/zzhang/doublet-bchmk/data/cpdb_stats/FM03___forty/statistical_analysis_significant_means_05_16_2024_005528.txt\n",
      "Reading user files...\n",
      "The following user files were loaded successfully:\n",
      "/projects/b1042/GoyalLab/zzhang/functional_analysis_renamed/FM03___ten.txt\n",
      "/projects/b1042/GoyalLab/zzhang/functional_analysis_renamed/FM03___ten_meta.csv\n",
      "[ ][CORE][16/05/24-00:55:47][INFO] [Cluster Statistical Analysis] Threshold:0.1 Iterations:1000 Debug-seed:-1 Threads:4 Precision:3\n",
      "[ ][CORE][16/05/24-00:55:47][INFO] Running Real Analysis\n",
      "[ ][CORE][16/05/24-00:55:47][INFO] Running Statistical Analysis\n"
     ]
    },
    {
     "name": "stderr",
     "output_type": "stream",
     "text": [
      "100%|██████████| 1000/1000 [00:25<00:00, 39.02it/s]\n"
     ]
    },
    {
     "name": "stdout",
     "output_type": "stream",
     "text": [
      "[ ][CORE][16/05/24-00:56:15][INFO] Building Pvalues result\n",
      "[ ][CORE][16/05/24-00:56:15][INFO] Building results\n",
      "Saved deconvoluted to /projects/p31666/zzhang/doublet-bchmk/data/cpdb_stats/FM03___ten/statistical_analysis_deconvoluted_05_16_2024_005615.txt\n",
      "Saved deconvoluted_percents to /projects/p31666/zzhang/doublet-bchmk/data/cpdb_stats/FM03___ten/statistical_analysis_deconvoluted_percents_05_16_2024_005615.txt\n",
      "Saved means to /projects/p31666/zzhang/doublet-bchmk/data/cpdb_stats/FM03___ten/statistical_analysis_means_05_16_2024_005615.txt\n",
      "Saved pvalues to /projects/p31666/zzhang/doublet-bchmk/data/cpdb_stats/FM03___ten/statistical_analysis_pvalues_05_16_2024_005615.txt\n",
      "Saved significant_means to /projects/p31666/zzhang/doublet-bchmk/data/cpdb_stats/FM03___ten/statistical_analysis_significant_means_05_16_2024_005615.txt\n",
      "Reading user files...\n",
      "The following user files were loaded successfully:\n",
      "/projects/b1042/GoyalLab/zzhang/functional_analysis_renamed/FM03___control.txt\n",
      "/projects/b1042/GoyalLab/zzhang/functional_analysis_renamed/FM03___control_meta.csv\n",
      "[ ][CORE][16/05/24-00:56:46][INFO] [Cluster Statistical Analysis] Threshold:0.1 Iterations:1000 Debug-seed:-1 Threads:4 Precision:3\n",
      "[ ][CORE][16/05/24-00:56:47][INFO] Running Real Analysis\n",
      "[ ][CORE][16/05/24-00:56:47][INFO] Running Statistical Analysis\n"
     ]
    },
    {
     "name": "stderr",
     "output_type": "stream",
     "text": [
      "100%|██████████| 1000/1000 [00:25<00:00, 39.69it/s]\n"
     ]
    },
    {
     "name": "stdout",
     "output_type": "stream",
     "text": [
      "[ ][CORE][16/05/24-00:57:14][INFO] Building Pvalues result\n",
      "[ ][CORE][16/05/24-00:57:14][INFO] Building results\n",
      "Saved deconvoluted to /projects/p31666/zzhang/doublet-bchmk/data/cpdb_stats/FM03___control/statistical_analysis_deconvoluted_05_16_2024_005714.txt\n",
      "Saved deconvoluted_percents to /projects/p31666/zzhang/doublet-bchmk/data/cpdb_stats/FM03___control/statistical_analysis_deconvoluted_percents_05_16_2024_005714.txt\n",
      "Saved means to /projects/p31666/zzhang/doublet-bchmk/data/cpdb_stats/FM03___control/statistical_analysis_means_05_16_2024_005714.txt\n",
      "Saved pvalues to /projects/p31666/zzhang/doublet-bchmk/data/cpdb_stats/FM03___control/statistical_analysis_pvalues_05_16_2024_005714.txt\n",
      "Saved significant_means to /projects/p31666/zzhang/doublet-bchmk/data/cpdb_stats/FM03___control/statistical_analysis_significant_means_05_16_2024_005714.txt\n",
      "Reading user files...\n",
      "The following user files were loaded successfully:\n",
      "/projects/b1042/GoyalLab/zzhang/functional_analysis_renamed/FM06___twenty.txt\n",
      "/projects/b1042/GoyalLab/zzhang/functional_analysis_renamed/FM06___twenty_meta.csv\n",
      "[ ][CORE][16/05/24-01:00:36][INFO] [Cluster Statistical Analysis] Threshold:0.1 Iterations:1000 Debug-seed:-1 Threads:4 Precision:3\n",
      "[ ][CORE][16/05/24-01:00:37][INFO] Running Real Analysis\n",
      "[ ][CORE][16/05/24-01:00:37][INFO] Running Statistical Analysis\n"
     ]
    },
    {
     "name": "stderr",
     "output_type": "stream",
     "text": [
      "100%|██████████| 1000/1000 [02:20<00:00,  7.14it/s]\n"
     ]
    },
    {
     "name": "stdout",
     "output_type": "stream",
     "text": [
      "[ ][CORE][16/05/24-01:02:59][INFO] Building Pvalues result\n",
      "[ ][CORE][16/05/24-01:03:00][INFO] Building results\n",
      "Saved deconvoluted to /projects/p31666/zzhang/doublet-bchmk/data/cpdb_stats/FM06___twenty/statistical_analysis_deconvoluted_05_16_2024_010300.txt\n",
      "Saved deconvoluted_percents to /projects/p31666/zzhang/doublet-bchmk/data/cpdb_stats/FM06___twenty/statistical_analysis_deconvoluted_percents_05_16_2024_010300.txt\n",
      "Saved means to /projects/p31666/zzhang/doublet-bchmk/data/cpdb_stats/FM06___twenty/statistical_analysis_means_05_16_2024_010300.txt\n",
      "Saved pvalues to /projects/p31666/zzhang/doublet-bchmk/data/cpdb_stats/FM06___twenty/statistical_analysis_pvalues_05_16_2024_010300.txt\n",
      "Saved significant_means to /projects/p31666/zzhang/doublet-bchmk/data/cpdb_stats/FM06___twenty/statistical_analysis_significant_means_05_16_2024_010300.txt\n",
      "AAAA\n",
      "/projects/b1042/GoyalLab/zzhang/functional_analysis_renamed/SPLINTR___forty.txt\n",
      "AAAA\n",
      "Reading user files...\n",
      "The following user files were loaded successfully:\n",
      "/projects/b1042/GoyalLab/zzhang/functional_analysis_renamed/FM05___ten.txt\n",
      "/projects/b1042/GoyalLab/zzhang/functional_analysis_renamed/FM05___ten_meta.csv\n",
      "[ ][CORE][16/05/24-01:06:24][INFO] [Cluster Statistical Analysis] Threshold:0.1 Iterations:1000 Debug-seed:-1 Threads:4 Precision:3\n",
      "[ ][CORE][16/05/24-01:06:25][INFO] Running Real Analysis\n",
      "[ ][CORE][16/05/24-01:06:25][INFO] Running Statistical Analysis\n"
     ]
    },
    {
     "name": "stderr",
     "output_type": "stream",
     "text": [
      "100%|██████████| 1000/1000 [02:09<00:00,  7.73it/s]\n"
     ]
    },
    {
     "name": "stdout",
     "output_type": "stream",
     "text": [
      "[ ][CORE][16/05/24-01:08:37][INFO] Building Pvalues result\n",
      "[ ][CORE][16/05/24-01:08:37][INFO] Building results\n",
      "Saved deconvoluted to /projects/p31666/zzhang/doublet-bchmk/data/cpdb_stats/FM05___ten/statistical_analysis_deconvoluted_05_16_2024_010837.txt\n",
      "Saved deconvoluted_percents to /projects/p31666/zzhang/doublet-bchmk/data/cpdb_stats/FM05___ten/statistical_analysis_deconvoluted_percents_05_16_2024_010837.txt\n",
      "Saved means to /projects/p31666/zzhang/doublet-bchmk/data/cpdb_stats/FM05___ten/statistical_analysis_means_05_16_2024_010837.txt\n",
      "Saved pvalues to /projects/p31666/zzhang/doublet-bchmk/data/cpdb_stats/FM05___ten/statistical_analysis_pvalues_05_16_2024_010837.txt\n",
      "Saved significant_means to /projects/p31666/zzhang/doublet-bchmk/data/cpdb_stats/FM05___ten/statistical_analysis_significant_means_05_16_2024_010837.txt\n",
      "AAAA\n",
      "/projects/b1042/GoyalLab/zzhang/functional_analysis_renamed/LARRY___twenty.txt\n",
      "AAAA\n",
      "Reading user files...\n",
      "The following user files were loaded successfully:\n",
      "/projects/b1042/GoyalLab/zzhang/functional_analysis_renamed/non_cancer___control.txt\n",
      "/projects/b1042/GoyalLab/zzhang/functional_analysis_renamed/non_cancer___control_meta.csv\n",
      "[ ][CORE][16/05/24-01:08:51][INFO] [Cluster Statistical Analysis] Threshold:0.1 Iterations:1000 Debug-seed:-1 Threads:4 Precision:3\n",
      "[ ][CORE][16/05/24-01:08:52][INFO] Running Real Analysis\n",
      "[ ][CORE][16/05/24-01:08:52][INFO] Running Statistical Analysis\n"
     ]
    },
    {
     "name": "stderr",
     "output_type": "stream",
     "text": [
      "100%|██████████| 1000/1000 [00:32<00:00, 30.39it/s]\n"
     ]
    },
    {
     "name": "stdout",
     "output_type": "stream",
     "text": [
      "[ ][CORE][16/05/24-01:09:27][INFO] Building Pvalues result\n",
      "[ ][CORE][16/05/24-01:09:27][INFO] Building results\n",
      "Saved deconvoluted to /projects/p31666/zzhang/doublet-bchmk/data/cpdb_stats/non_cancer___control/statistical_analysis_deconvoluted_05_16_2024_010927.txt\n",
      "Saved deconvoluted_percents to /projects/p31666/zzhang/doublet-bchmk/data/cpdb_stats/non_cancer___control/statistical_analysis_deconvoluted_percents_05_16_2024_010927.txt\n",
      "Saved means to /projects/p31666/zzhang/doublet-bchmk/data/cpdb_stats/non_cancer___control/statistical_analysis_means_05_16_2024_010927.txt\n",
      "Saved pvalues to /projects/p31666/zzhang/doublet-bchmk/data/cpdb_stats/non_cancer___control/statistical_analysis_pvalues_05_16_2024_010927.txt\n",
      "Saved significant_means to /projects/p31666/zzhang/doublet-bchmk/data/cpdb_stats/non_cancer___control/statistical_analysis_significant_means_05_16_2024_010927.txt\n",
      "Reading user files...\n",
      "The following user files were loaded successfully:\n",
      "/projects/b1042/GoyalLab/zzhang/functional_analysis_renamed/Biorxiv___ten.txt\n",
      "/projects/b1042/GoyalLab/zzhang/functional_analysis_renamed/Biorxiv___ten_meta.csv\n",
      "[ ][CORE][16/05/24-01:10:59][INFO] [Cluster Statistical Analysis] Threshold:0.1 Iterations:1000 Debug-seed:-1 Threads:4 Precision:3\n",
      "[ ][CORE][16/05/24-01:10:59][INFO] Running Real Analysis\n",
      "[ ][CORE][16/05/24-01:10:59][INFO] Running Statistical Analysis\n"
     ]
    },
    {
     "name": "stderr",
     "output_type": "stream",
     "text": [
      "100%|██████████| 1000/1000 [00:16<00:00, 61.22it/s]\n"
     ]
    },
    {
     "name": "stdout",
     "output_type": "stream",
     "text": [
      "[ ][CORE][16/05/24-01:11:17][INFO] Building Pvalues result\n",
      "[ ][CORE][16/05/24-01:11:18][INFO] Building results\n",
      "Saved deconvoluted to /projects/p31666/zzhang/doublet-bchmk/data/cpdb_stats/Biorxiv___ten/statistical_analysis_deconvoluted_05_16_2024_011118.txt\n",
      "Saved deconvoluted_percents to /projects/p31666/zzhang/doublet-bchmk/data/cpdb_stats/Biorxiv___ten/statistical_analysis_deconvoluted_percents_05_16_2024_011118.txt\n",
      "Saved means to /projects/p31666/zzhang/doublet-bchmk/data/cpdb_stats/Biorxiv___ten/statistical_analysis_means_05_16_2024_011118.txt\n",
      "Saved pvalues to /projects/p31666/zzhang/doublet-bchmk/data/cpdb_stats/Biorxiv___ten/statistical_analysis_pvalues_05_16_2024_011118.txt\n",
      "Saved significant_means to /projects/p31666/zzhang/doublet-bchmk/data/cpdb_stats/Biorxiv___ten/statistical_analysis_significant_means_05_16_2024_011118.txt\n",
      "Reading user files...\n",
      "The following user files were loaded successfully:\n",
      "/projects/b1042/GoyalLab/zzhang/functional_analysis_renamed/FM04___control.txt\n",
      "/projects/b1042/GoyalLab/zzhang/functional_analysis_renamed/FM04___control_meta.csv\n",
      "[ ][CORE][16/05/24-01:14:02][INFO] [Cluster Statistical Analysis] Threshold:0.1 Iterations:1000 Debug-seed:-1 Threads:4 Precision:3\n",
      "[ ][CORE][16/05/24-01:14:03][INFO] Running Real Analysis\n",
      "[ ][CORE][16/05/24-01:14:03][INFO] Running Statistical Analysis\n"
     ]
    },
    {
     "name": "stderr",
     "output_type": "stream",
     "text": [
      "100%|██████████| 1000/1000 [02:16<00:00,  7.32it/s]\n"
     ]
    },
    {
     "name": "stdout",
     "output_type": "stream",
     "text": [
      "[ ][CORE][16/05/24-01:16:21][INFO] Building Pvalues result\n",
      "[ ][CORE][16/05/24-01:16:21][INFO] Building results\n",
      "Saved deconvoluted to /projects/p31666/zzhang/doublet-bchmk/data/cpdb_stats/FM04___control/statistical_analysis_deconvoluted_05_16_2024_011622.txt\n",
      "Saved deconvoluted_percents to /projects/p31666/zzhang/doublet-bchmk/data/cpdb_stats/FM04___control/statistical_analysis_deconvoluted_percents_05_16_2024_011622.txt\n",
      "Saved means to /projects/p31666/zzhang/doublet-bchmk/data/cpdb_stats/FM04___control/statistical_analysis_means_05_16_2024_011622.txt\n",
      "Saved pvalues to /projects/p31666/zzhang/doublet-bchmk/data/cpdb_stats/FM04___control/statistical_analysis_pvalues_05_16_2024_011622.txt\n",
      "Saved significant_means to /projects/p31666/zzhang/doublet-bchmk/data/cpdb_stats/FM04___control/statistical_analysis_significant_means_05_16_2024_011622.txt\n",
      "AAAA\n",
      "/projects/b1042/GoyalLab/zzhang/functional_analysis_renamed/cellTag___forty.txt\n",
      "AAAA\n",
      "Reading user files...\n",
      "The following user files were loaded successfully:\n",
      "/projects/b1042/GoyalLab/zzhang/functional_analysis_renamed/FM02___forty.txt\n",
      "/projects/b1042/GoyalLab/zzhang/functional_analysis_renamed/FM02___forty_meta.csv\n",
      "[ ][CORE][16/05/24-01:19:52][INFO] [Cluster Statistical Analysis] Threshold:0.1 Iterations:1000 Debug-seed:-1 Threads:4 Precision:3\n",
      "[ ][CORE][16/05/24-01:19:55][INFO] Running Real Analysis\n",
      "[ ][CORE][16/05/24-01:19:55][INFO] Running Statistical Analysis\n"
     ]
    },
    {
     "name": "stderr",
     "output_type": "stream",
     "text": [
      "100%|██████████| 1000/1000 [02:53<00:00,  5.77it/s]\n"
     ]
    },
    {
     "name": "stdout",
     "output_type": "stream",
     "text": [
      "[ ][CORE][16/05/24-01:22:50][INFO] Building Pvalues result\n",
      "[ ][CORE][16/05/24-01:22:50][INFO] Building results\n",
      "Saved deconvoluted to /projects/p31666/zzhang/doublet-bchmk/data/cpdb_stats/FM02___forty/statistical_analysis_deconvoluted_05_16_2024_012250.txt\n",
      "Saved deconvoluted_percents to /projects/p31666/zzhang/doublet-bchmk/data/cpdb_stats/FM02___forty/statistical_analysis_deconvoluted_percents_05_16_2024_012250.txt\n",
      "Saved means to /projects/p31666/zzhang/doublet-bchmk/data/cpdb_stats/FM02___forty/statistical_analysis_means_05_16_2024_012250.txt\n",
      "Saved pvalues to /projects/p31666/zzhang/doublet-bchmk/data/cpdb_stats/FM02___forty/statistical_analysis_pvalues_05_16_2024_012250.txt\n",
      "Saved significant_means to /projects/p31666/zzhang/doublet-bchmk/data/cpdb_stats/FM02___forty/statistical_analysis_significant_means_05_16_2024_012250.txt\n",
      "Reading user files...\n",
      "The following user files were loaded successfully:\n",
      "/projects/b1042/GoyalLab/zzhang/functional_analysis_renamed/FM03___twenty.txt\n",
      "/projects/b1042/GoyalLab/zzhang/functional_analysis_renamed/FM03___twenty_meta.csv\n",
      "[ ][CORE][16/05/24-01:23:13][INFO] [Cluster Statistical Analysis] Threshold:0.1 Iterations:1000 Debug-seed:-1 Threads:4 Precision:3\n",
      "[ ][CORE][16/05/24-01:23:13][INFO] Running Real Analysis\n",
      "[ ][CORE][16/05/24-01:23:13][INFO] Running Statistical Analysis\n"
     ]
    },
    {
     "name": "stderr",
     "output_type": "stream",
     "text": [
      "100%|██████████| 1000/1000 [00:28<00:00, 34.70it/s]\n"
     ]
    },
    {
     "name": "stdout",
     "output_type": "stream",
     "text": [
      "[ ][CORE][16/05/24-01:23:44][INFO] Building Pvalues result\n",
      "[ ][CORE][16/05/24-01:23:44][INFO] Building results\n",
      "Saved deconvoluted to /projects/p31666/zzhang/doublet-bchmk/data/cpdb_stats/FM03___twenty/statistical_analysis_deconvoluted_05_16_2024_012344.txt\n",
      "Saved deconvoluted_percents to /projects/p31666/zzhang/doublet-bchmk/data/cpdb_stats/FM03___twenty/statistical_analysis_deconvoluted_percents_05_16_2024_012344.txt\n",
      "Saved means to /projects/p31666/zzhang/doublet-bchmk/data/cpdb_stats/FM03___twenty/statistical_analysis_means_05_16_2024_012344.txt\n",
      "Saved pvalues to /projects/p31666/zzhang/doublet-bchmk/data/cpdb_stats/FM03___twenty/statistical_analysis_pvalues_05_16_2024_012344.txt\n",
      "Saved significant_means to /projects/p31666/zzhang/doublet-bchmk/data/cpdb_stats/FM03___twenty/statistical_analysis_significant_means_05_16_2024_012344.txt\n",
      "Reading user files...\n",
      "The following user files were loaded successfully:\n",
      "/projects/b1042/GoyalLab/zzhang/functional_analysis_renamed/ClonMapper___twenty.txt\n",
      "/projects/b1042/GoyalLab/zzhang/functional_analysis_renamed/ClonMapper___twenty_meta.csv\n",
      "[ ][CORE][16/05/24-01:26:26][INFO] [Cluster Statistical Analysis] Threshold:0.1 Iterations:1000 Debug-seed:-1 Threads:4 Precision:3\n",
      "[ ][CORE][16/05/24-01:26:27][INFO] Running Real Analysis\n",
      "[ ][CORE][16/05/24-01:26:27][INFO] Running Statistical Analysis\n"
     ]
    },
    {
     "name": "stderr",
     "output_type": "stream",
     "text": [
      "100%|██████████| 1000/1000 [01:20<00:00, 12.40it/s]\n"
     ]
    },
    {
     "name": "stdout",
     "output_type": "stream",
     "text": [
      "[ ][CORE][16/05/24-01:27:50][INFO] Building Pvalues result\n",
      "[ ][CORE][16/05/24-01:27:50][INFO] Building results\n",
      "Saved deconvoluted to /projects/p31666/zzhang/doublet-bchmk/data/cpdb_stats/ClonMapper___twenty/statistical_analysis_deconvoluted_05_16_2024_012750.txt\n",
      "Saved deconvoluted_percents to /projects/p31666/zzhang/doublet-bchmk/data/cpdb_stats/ClonMapper___twenty/statistical_analysis_deconvoluted_percents_05_16_2024_012750.txt\n",
      "Saved means to /projects/p31666/zzhang/doublet-bchmk/data/cpdb_stats/ClonMapper___twenty/statistical_analysis_means_05_16_2024_012750.txt\n",
      "Saved pvalues to /projects/p31666/zzhang/doublet-bchmk/data/cpdb_stats/ClonMapper___twenty/statistical_analysis_pvalues_05_16_2024_012750.txt\n",
      "Saved significant_means to /projects/p31666/zzhang/doublet-bchmk/data/cpdb_stats/ClonMapper___twenty/statistical_analysis_significant_means_05_16_2024_012750.txt\n",
      "Reading user files...\n",
      "The following user files were loaded successfully:\n",
      "/projects/b1042/GoyalLab/zzhang/functional_analysis_renamed/FM08___ten.txt\n",
      "/projects/b1042/GoyalLab/zzhang/functional_analysis_renamed/FM08___ten_meta.csv\n",
      "[ ][CORE][16/05/24-01:28:16][INFO] [Cluster Statistical Analysis] Threshold:0.1 Iterations:1000 Debug-seed:-1 Threads:4 Precision:3\n",
      "[ ][CORE][16/05/24-01:28:16][INFO] Running Real Analysis\n",
      "[ ][CORE][16/05/24-01:28:17][INFO] Running Statistical Analysis\n"
     ]
    },
    {
     "name": "stderr",
     "output_type": "stream",
     "text": [
      "100%|██████████| 1000/1000 [00:36<00:00, 27.52it/s]\n"
     ]
    },
    {
     "name": "stdout",
     "output_type": "stream",
     "text": [
      "[ ][CORE][16/05/24-01:28:55][INFO] Building Pvalues result\n",
      "[ ][CORE][16/05/24-01:28:55][INFO] Building results\n",
      "Saved deconvoluted to /projects/p31666/zzhang/doublet-bchmk/data/cpdb_stats/FM08___ten/statistical_analysis_deconvoluted_05_16_2024_012855.txt\n",
      "Saved deconvoluted_percents to /projects/p31666/zzhang/doublet-bchmk/data/cpdb_stats/FM08___ten/statistical_analysis_deconvoluted_percents_05_16_2024_012855.txt\n",
      "Saved means to /projects/p31666/zzhang/doublet-bchmk/data/cpdb_stats/FM08___ten/statistical_analysis_means_05_16_2024_012855.txt\n",
      "Saved pvalues to /projects/p31666/zzhang/doublet-bchmk/data/cpdb_stats/FM08___ten/statistical_analysis_pvalues_05_16_2024_012855.txt\n",
      "Saved significant_means to /projects/p31666/zzhang/doublet-bchmk/data/cpdb_stats/FM08___ten/statistical_analysis_significant_means_05_16_2024_012855.txt\n",
      "Reading user files...\n",
      "The following user files were loaded successfully:\n",
      "/projects/b1042/GoyalLab/zzhang/functional_analysis_renamed/ClonMapper___ten.txt\n",
      "/projects/b1042/GoyalLab/zzhang/functional_analysis_renamed/ClonMapper___ten_meta.csv\n",
      "[ ][CORE][16/05/24-01:30:02][INFO] [Cluster Statistical Analysis] Threshold:0.1 Iterations:1000 Debug-seed:-1 Threads:4 Precision:3\n",
      "[ ][CORE][16/05/24-01:30:02][INFO] Running Real Analysis\n",
      "[ ][CORE][16/05/24-01:30:02][INFO] Running Statistical Analysis\n"
     ]
    },
    {
     "name": "stderr",
     "output_type": "stream",
     "text": [
      "100%|██████████| 1000/1000 [01:11<00:00, 13.96it/s]\n"
     ]
    },
    {
     "name": "stdout",
     "output_type": "stream",
     "text": [
      "[ ][CORE][16/05/24-01:31:16][INFO] Building Pvalues result\n",
      "[ ][CORE][16/05/24-01:31:16][INFO] Building results\n",
      "Saved deconvoluted to /projects/p31666/zzhang/doublet-bchmk/data/cpdb_stats/ClonMapper___ten/statistical_analysis_deconvoluted_05_16_2024_013117.txt\n",
      "Saved deconvoluted_percents to /projects/p31666/zzhang/doublet-bchmk/data/cpdb_stats/ClonMapper___ten/statistical_analysis_deconvoluted_percents_05_16_2024_013117.txt\n",
      "Saved means to /projects/p31666/zzhang/doublet-bchmk/data/cpdb_stats/ClonMapper___ten/statistical_analysis_means_05_16_2024_013117.txt\n",
      "Saved pvalues to /projects/p31666/zzhang/doublet-bchmk/data/cpdb_stats/ClonMapper___ten/statistical_analysis_pvalues_05_16_2024_013117.txt\n",
      "Saved significant_means to /projects/p31666/zzhang/doublet-bchmk/data/cpdb_stats/ClonMapper___ten/statistical_analysis_significant_means_05_16_2024_013117.txt\n",
      "Reading user files...\n",
      "The following user files were loaded successfully:\n",
      "/projects/b1042/GoyalLab/zzhang/functional_analysis_renamed/FM06___ten.txt\n",
      "/projects/b1042/GoyalLab/zzhang/functional_analysis_renamed/FM06___ten_meta.csv\n",
      "[ ][CORE][16/05/24-01:33:04][INFO] [Cluster Statistical Analysis] Threshold:0.1 Iterations:1000 Debug-seed:-1 Threads:4 Precision:3\n",
      "[ ][CORE][16/05/24-01:33:06][INFO] Running Real Analysis\n",
      "[ ][CORE][16/05/24-01:33:06][INFO] Running Statistical Analysis\n"
     ]
    },
    {
     "name": "stderr",
     "output_type": "stream",
     "text": [
      "100%|██████████| 1000/1000 [02:00<00:00,  8.27it/s]\n"
     ]
    },
    {
     "name": "stdout",
     "output_type": "stream",
     "text": [
      "[ ][CORE][16/05/24-01:35:09][INFO] Building Pvalues result\n",
      "[ ][CORE][16/05/24-01:35:09][INFO] Building results\n",
      "Saved deconvoluted to /projects/p31666/zzhang/doublet-bchmk/data/cpdb_stats/FM06___ten/statistical_analysis_deconvoluted_05_16_2024_013509.txt\n",
      "Saved deconvoluted_percents to /projects/p31666/zzhang/doublet-bchmk/data/cpdb_stats/FM06___ten/statistical_analysis_deconvoluted_percents_05_16_2024_013509.txt\n",
      "Saved means to /projects/p31666/zzhang/doublet-bchmk/data/cpdb_stats/FM06___ten/statistical_analysis_means_05_16_2024_013509.txt\n",
      "Saved pvalues to /projects/p31666/zzhang/doublet-bchmk/data/cpdb_stats/FM06___ten/statistical_analysis_pvalues_05_16_2024_013509.txt\n",
      "Saved significant_means to /projects/p31666/zzhang/doublet-bchmk/data/cpdb_stats/FM06___ten/statistical_analysis_significant_means_05_16_2024_013509.txt\n",
      "Reading user files...\n",
      "The following user files were loaded successfully:\n",
      "/projects/b1042/GoyalLab/zzhang/functional_analysis_renamed/non_cancer___ten.txt\n",
      "/projects/b1042/GoyalLab/zzhang/functional_analysis_renamed/non_cancer___ten_meta.csv\n",
      "[ ][CORE][16/05/24-01:35:25][INFO] [Cluster Statistical Analysis] Threshold:0.1 Iterations:1000 Debug-seed:-1 Threads:4 Precision:3\n",
      "[ ][CORE][16/05/24-01:35:25][INFO] Running Real Analysis\n",
      "[ ][CORE][16/05/24-01:35:25][INFO] Running Statistical Analysis\n"
     ]
    },
    {
     "name": "stderr",
     "output_type": "stream",
     "text": [
      "100%|██████████| 1000/1000 [00:35<00:00, 28.16it/s]\n"
     ]
    },
    {
     "name": "stdout",
     "output_type": "stream",
     "text": [
      "[ ][CORE][16/05/24-01:36:03][INFO] Building Pvalues result\n",
      "[ ][CORE][16/05/24-01:36:03][INFO] Building results\n",
      "Saved deconvoluted to /projects/p31666/zzhang/doublet-bchmk/data/cpdb_stats/non_cancer___ten/statistical_analysis_deconvoluted_05_16_2024_013604.txt\n",
      "Saved deconvoluted_percents to /projects/p31666/zzhang/doublet-bchmk/data/cpdb_stats/non_cancer___ten/statistical_analysis_deconvoluted_percents_05_16_2024_013604.txt\n",
      "Saved means to /projects/p31666/zzhang/doublet-bchmk/data/cpdb_stats/non_cancer___ten/statistical_analysis_means_05_16_2024_013604.txt\n",
      "Saved pvalues to /projects/p31666/zzhang/doublet-bchmk/data/cpdb_stats/non_cancer___ten/statistical_analysis_pvalues_05_16_2024_013604.txt\n",
      "Saved significant_means to /projects/p31666/zzhang/doublet-bchmk/data/cpdb_stats/non_cancer___ten/statistical_analysis_significant_means_05_16_2024_013604.txt\n",
      "Reading user files...\n",
      "The following user files were loaded successfully:\n",
      "/projects/b1042/GoyalLab/zzhang/functional_analysis_renamed/FM01___forty.txt\n",
      "/projects/b1042/GoyalLab/zzhang/functional_analysis_renamed/FM01___forty_meta.csv\n",
      "[ ][CORE][16/05/24-01:37:58][INFO] [Cluster Statistical Analysis] Threshold:0.1 Iterations:1000 Debug-seed:-1 Threads:4 Precision:3\n",
      "[ ][CORE][16/05/24-01:38:00][INFO] Running Real Analysis\n",
      "[ ][CORE][16/05/24-01:38:00][INFO] Running Statistical Analysis\n"
     ]
    },
    {
     "name": "stderr",
     "output_type": "stream",
     "text": [
      "100%|██████████| 1000/1000 [03:37<00:00,  4.60it/s]\n"
     ]
    },
    {
     "name": "stdout",
     "output_type": "stream",
     "text": [
      "[ ][CORE][16/05/24-01:41:40][INFO] Building Pvalues result\n",
      "[ ][CORE][16/05/24-01:41:40][INFO] Building results\n",
      "Saved deconvoluted to /projects/p31666/zzhang/doublet-bchmk/data/cpdb_stats/FM01___forty/statistical_analysis_deconvoluted_05_16_2024_014140.txt\n",
      "Saved deconvoluted_percents to /projects/p31666/zzhang/doublet-bchmk/data/cpdb_stats/FM01___forty/statistical_analysis_deconvoluted_percents_05_16_2024_014140.txt\n",
      "Saved means to /projects/p31666/zzhang/doublet-bchmk/data/cpdb_stats/FM01___forty/statistical_analysis_means_05_16_2024_014140.txt\n",
      "Saved pvalues to /projects/p31666/zzhang/doublet-bchmk/data/cpdb_stats/FM01___forty/statistical_analysis_pvalues_05_16_2024_014140.txt\n",
      "Saved significant_means to /projects/p31666/zzhang/doublet-bchmk/data/cpdb_stats/FM01___forty/statistical_analysis_significant_means_05_16_2024_014140.txt\n",
      "Reading user files...\n",
      "The following user files were loaded successfully:\n",
      "/projects/b1042/GoyalLab/zzhang/functional_analysis_renamed/FM06___forty.txt\n",
      "/projects/b1042/GoyalLab/zzhang/functional_analysis_renamed/FM06___forty_meta.csv\n",
      "[ ][CORE][16/05/24-01:46:17][INFO] [Cluster Statistical Analysis] Threshold:0.1 Iterations:1000 Debug-seed:-1 Threads:4 Precision:3\n",
      "[ ][CORE][16/05/24-01:46:19][INFO] Running Real Analysis\n",
      "[ ][CORE][16/05/24-01:46:19][INFO] Running Statistical Analysis\n"
     ]
    },
    {
     "name": "stderr",
     "output_type": "stream",
     "text": [
      "100%|██████████| 1000/1000 [03:31<00:00,  4.73it/s]\n"
     ]
    },
    {
     "name": "stdout",
     "output_type": "stream",
     "text": [
      "[ ][CORE][16/05/24-01:49:53][INFO] Building Pvalues result\n",
      "[ ][CORE][16/05/24-01:49:53][INFO] Building results\n",
      "Saved deconvoluted to /projects/p31666/zzhang/doublet-bchmk/data/cpdb_stats/FM06___forty/statistical_analysis_deconvoluted_05_16_2024_014953.txt\n",
      "Saved deconvoluted_percents to /projects/p31666/zzhang/doublet-bchmk/data/cpdb_stats/FM06___forty/statistical_analysis_deconvoluted_percents_05_16_2024_014953.txt\n",
      "Saved means to /projects/p31666/zzhang/doublet-bchmk/data/cpdb_stats/FM06___forty/statistical_analysis_means_05_16_2024_014953.txt\n",
      "Saved pvalues to /projects/p31666/zzhang/doublet-bchmk/data/cpdb_stats/FM06___forty/statistical_analysis_pvalues_05_16_2024_014953.txt\n",
      "Saved significant_means to /projects/p31666/zzhang/doublet-bchmk/data/cpdb_stats/FM06___forty/statistical_analysis_significant_means_05_16_2024_014953.txt\n",
      "AAAA\n",
      "/projects/b1042/GoyalLab/zzhang/functional_analysis_renamed/cellTag___control.txt\n",
      "AAAA\n",
      "AAAA\n",
      "/projects/b1042/GoyalLab/zzhang/functional_analysis_renamed/LARRY___control.txt\n",
      "AAAA\n",
      "Reading user files...\n",
      "The following user files were loaded successfully:\n",
      "/projects/b1042/GoyalLab/zzhang/functional_analysis_renamed/FM01___control.txt\n",
      "/projects/b1042/GoyalLab/zzhang/functional_analysis_renamed/FM01___control_meta.csv\n",
      "[ ][CORE][16/05/24-01:50:58][INFO] [Cluster Statistical Analysis] Threshold:0.1 Iterations:1000 Debug-seed:-1 Threads:4 Precision:3\n",
      "[ ][CORE][16/05/24-01:50:59][INFO] Running Real Analysis\n",
      "[ ][CORE][16/05/24-01:50:59][INFO] Running Statistical Analysis\n"
     ]
    },
    {
     "name": "stderr",
     "output_type": "stream",
     "text": [
      "100%|██████████| 1000/1000 [01:13<00:00, 13.65it/s]\n"
     ]
    },
    {
     "name": "stdout",
     "output_type": "stream",
     "text": [
      "[ ][CORE][16/05/24-01:52:14][INFO] Building Pvalues result\n",
      "[ ][CORE][16/05/24-01:52:14][INFO] Building results\n",
      "Saved deconvoluted to /projects/p31666/zzhang/doublet-bchmk/data/cpdb_stats/FM01___control/statistical_analysis_deconvoluted_05_16_2024_015214.txt\n",
      "Saved deconvoluted_percents to /projects/p31666/zzhang/doublet-bchmk/data/cpdb_stats/FM01___control/statistical_analysis_deconvoluted_percents_05_16_2024_015214.txt\n",
      "Saved means to /projects/p31666/zzhang/doublet-bchmk/data/cpdb_stats/FM01___control/statistical_analysis_means_05_16_2024_015214.txt\n",
      "Saved pvalues to /projects/p31666/zzhang/doublet-bchmk/data/cpdb_stats/FM01___control/statistical_analysis_pvalues_05_16_2024_015214.txt\n",
      "Saved significant_means to /projects/p31666/zzhang/doublet-bchmk/data/cpdb_stats/FM01___control/statistical_analysis_significant_means_05_16_2024_015214.txt\n",
      "Reading user files...\n",
      "The following user files were loaded successfully:\n",
      "/projects/b1042/GoyalLab/zzhang/functional_analysis_renamed/FM01___twenty.txt\n",
      "/projects/b1042/GoyalLab/zzhang/functional_analysis_renamed/FM01___twenty_meta.csv\n",
      "[ ][CORE][16/05/24-01:53:35][INFO] [Cluster Statistical Analysis] Threshold:0.1 Iterations:1000 Debug-seed:-1 Threads:4 Precision:3\n",
      "[ ][CORE][16/05/24-01:53:37][INFO] Running Real Analysis\n",
      "[ ][CORE][16/05/24-01:53:37][INFO] Running Statistical Analysis\n"
     ]
    },
    {
     "name": "stderr",
     "output_type": "stream",
     "text": [
      "100%|██████████| 1000/1000 [02:23<00:00,  6.98it/s]\n"
     ]
    },
    {
     "name": "stdout",
     "output_type": "stream",
     "text": [
      "[ ][CORE][16/05/24-01:56:02][INFO] Building Pvalues result\n",
      "[ ][CORE][16/05/24-01:56:02][INFO] Building results\n",
      "Saved deconvoluted to /projects/p31666/zzhang/doublet-bchmk/data/cpdb_stats/FM01___twenty/statistical_analysis_deconvoluted_05_16_2024_015602.txt\n",
      "Saved deconvoluted_percents to /projects/p31666/zzhang/doublet-bchmk/data/cpdb_stats/FM01___twenty/statistical_analysis_deconvoluted_percents_05_16_2024_015602.txt\n",
      "Saved means to /projects/p31666/zzhang/doublet-bchmk/data/cpdb_stats/FM01___twenty/statistical_analysis_means_05_16_2024_015602.txt\n",
      "Saved pvalues to /projects/p31666/zzhang/doublet-bchmk/data/cpdb_stats/FM01___twenty/statistical_analysis_pvalues_05_16_2024_015602.txt\n",
      "Saved significant_means to /projects/p31666/zzhang/doublet-bchmk/data/cpdb_stats/FM01___twenty/statistical_analysis_significant_means_05_16_2024_015602.txt\n",
      "AAAA\n",
      "/projects/b1042/GoyalLab/zzhang/functional_analysis_renamed/cellTag___twenty.txt\n",
      "AAAA\n",
      "Reading user files...\n",
      "The following user files were loaded successfully:\n",
      "/projects/b1042/GoyalLab/zzhang/functional_analysis_renamed/non_cancer___twenty.txt\n",
      "/projects/b1042/GoyalLab/zzhang/functional_analysis_renamed/non_cancer___twenty_meta.csv\n",
      "[ ][CORE][16/05/24-01:56:26][INFO] [Cluster Statistical Analysis] Threshold:0.1 Iterations:1000 Debug-seed:-1 Threads:4 Precision:3\n",
      "[ ][CORE][16/05/24-01:56:27][INFO] Running Real Analysis\n",
      "[ ][CORE][16/05/24-01:56:27][INFO] Running Statistical Analysis\n"
     ]
    },
    {
     "name": "stderr",
     "output_type": "stream",
     "text": [
      "100%|██████████| 1000/1000 [00:37<00:00, 26.40it/s]\n"
     ]
    },
    {
     "name": "stdout",
     "output_type": "stream",
     "text": [
      "[ ][CORE][16/05/24-01:57:07][INFO] Building Pvalues result\n",
      "[ ][CORE][16/05/24-01:57:07][INFO] Building results\n",
      "Saved deconvoluted to /projects/p31666/zzhang/doublet-bchmk/data/cpdb_stats/non_cancer___twenty/statistical_analysis_deconvoluted_05_16_2024_015707.txt\n",
      "Saved deconvoluted_percents to /projects/p31666/zzhang/doublet-bchmk/data/cpdb_stats/non_cancer___twenty/statistical_analysis_deconvoluted_percents_05_16_2024_015707.txt\n",
      "Saved means to /projects/p31666/zzhang/doublet-bchmk/data/cpdb_stats/non_cancer___twenty/statistical_analysis_means_05_16_2024_015707.txt\n",
      "Saved pvalues to /projects/p31666/zzhang/doublet-bchmk/data/cpdb_stats/non_cancer___twenty/statistical_analysis_pvalues_05_16_2024_015707.txt\n",
      "Saved significant_means to /projects/p31666/zzhang/doublet-bchmk/data/cpdb_stats/non_cancer___twenty/statistical_analysis_significant_means_05_16_2024_015707.txt\n",
      "Reading user files...\n",
      "The following user files were loaded successfully:\n",
      "/projects/b1042/GoyalLab/zzhang/functional_analysis_renamed/FM04___forty.txt\n",
      "/projects/b1042/GoyalLab/zzhang/functional_analysis_renamed/FM04___forty_meta.csv\n",
      "[ ][CORE][16/05/24-02:00:29][INFO] [Cluster Statistical Analysis] Threshold:0.1 Iterations:1000 Debug-seed:-1 Threads:4 Precision:3\n",
      "[ ][CORE][16/05/24-02:00:31][INFO] Running Real Analysis\n",
      "[ ][CORE][16/05/24-02:00:31][INFO] Running Statistical Analysis\n"
     ]
    },
    {
     "name": "stderr",
     "output_type": "stream",
     "text": [
      "100%|██████████| 1000/1000 [02:46<00:00,  6.02it/s]\n"
     ]
    },
    {
     "name": "stdout",
     "output_type": "stream",
     "text": [
      "[ ][CORE][16/05/24-02:03:20][INFO] Building Pvalues result\n",
      "[ ][CORE][16/05/24-02:03:20][INFO] Building results\n",
      "Saved deconvoluted to /projects/p31666/zzhang/doublet-bchmk/data/cpdb_stats/FM04___forty/statistical_analysis_deconvoluted_05_16_2024_020320.txt\n",
      "Saved deconvoluted_percents to /projects/p31666/zzhang/doublet-bchmk/data/cpdb_stats/FM04___forty/statistical_analysis_deconvoluted_percents_05_16_2024_020320.txt\n",
      "Saved means to /projects/p31666/zzhang/doublet-bchmk/data/cpdb_stats/FM04___forty/statistical_analysis_means_05_16_2024_020320.txt\n",
      "Saved pvalues to /projects/p31666/zzhang/doublet-bchmk/data/cpdb_stats/FM04___forty/statistical_analysis_pvalues_05_16_2024_020320.txt\n",
      "Saved significant_means to /projects/p31666/zzhang/doublet-bchmk/data/cpdb_stats/FM04___forty/statistical_analysis_significant_means_05_16_2024_020320.txt\n",
      "Reading user files...\n",
      "The following user files were loaded successfully:\n",
      "/projects/b1042/GoyalLab/zzhang/functional_analysis_renamed/watermelon___control.txt\n",
      "/projects/b1042/GoyalLab/zzhang/functional_analysis_renamed/watermelon___control_meta.csv\n",
      "[ ][CORE][16/05/24-02:14:06][INFO] [Cluster Statistical Analysis] Threshold:0.1 Iterations:1000 Debug-seed:-1 Threads:4 Precision:3\n",
      "[ ][CORE][16/05/24-02:14:08][INFO] Running Real Analysis\n",
      "[ ][CORE][16/05/24-02:14:08][INFO] Running Statistical Analysis\n"
     ]
    },
    {
     "name": "stderr",
     "output_type": "stream",
     "text": [
      "100%|██████████| 1000/1000 [05:48<00:00,  2.87it/s]\n"
     ]
    },
    {
     "name": "stdout",
     "output_type": "stream",
     "text": [
      "[ ][CORE][16/05/24-02:19:59][INFO] Building Pvalues result\n",
      "[ ][CORE][16/05/24-02:19:59][INFO] Building results\n",
      "Saved deconvoluted to /projects/p31666/zzhang/doublet-bchmk/data/cpdb_stats/watermelon___control/statistical_analysis_deconvoluted_05_16_2024_021959.txt\n",
      "Saved deconvoluted_percents to /projects/p31666/zzhang/doublet-bchmk/data/cpdb_stats/watermelon___control/statistical_analysis_deconvoluted_percents_05_16_2024_021959.txt\n",
      "Saved means to /projects/p31666/zzhang/doublet-bchmk/data/cpdb_stats/watermelon___control/statistical_analysis_means_05_16_2024_021959.txt\n",
      "Saved pvalues to /projects/p31666/zzhang/doublet-bchmk/data/cpdb_stats/watermelon___control/statistical_analysis_pvalues_05_16_2024_021959.txt\n",
      "Saved significant_means to /projects/p31666/zzhang/doublet-bchmk/data/cpdb_stats/watermelon___control/statistical_analysis_significant_means_05_16_2024_021959.txt\n",
      "Reading user files...\n",
      "The following user files were loaded successfully:\n",
      "/projects/b1042/GoyalLab/zzhang/functional_analysis_renamed/FM01___ten.txt\n",
      "/projects/b1042/GoyalLab/zzhang/functional_analysis_renamed/FM01___ten_meta.csv\n",
      "[ ][CORE][16/05/24-02:21:12][INFO] [Cluster Statistical Analysis] Threshold:0.1 Iterations:1000 Debug-seed:-1 Threads:4 Precision:3\n",
      "[ ][CORE][16/05/24-02:21:13][INFO] Running Real Analysis\n",
      "[ ][CORE][16/05/24-02:21:13][INFO] Running Statistical Analysis\n"
     ]
    },
    {
     "name": "stderr",
     "output_type": "stream",
     "text": [
      "100%|██████████| 1000/1000 [01:24<00:00, 11.80it/s]\n"
     ]
    },
    {
     "name": "stdout",
     "output_type": "stream",
     "text": [
      "[ ][CORE][16/05/24-02:22:40][INFO] Building Pvalues result\n",
      "[ ][CORE][16/05/24-02:22:40][INFO] Building results\n",
      "Saved deconvoluted to /projects/p31666/zzhang/doublet-bchmk/data/cpdb_stats/FM01___ten/statistical_analysis_deconvoluted_05_16_2024_022240.txt\n",
      "Saved deconvoluted_percents to /projects/p31666/zzhang/doublet-bchmk/data/cpdb_stats/FM01___ten/statistical_analysis_deconvoluted_percents_05_16_2024_022240.txt\n",
      "Saved means to /projects/p31666/zzhang/doublet-bchmk/data/cpdb_stats/FM01___ten/statistical_analysis_means_05_16_2024_022240.txt\n",
      "Saved pvalues to /projects/p31666/zzhang/doublet-bchmk/data/cpdb_stats/FM01___ten/statistical_analysis_pvalues_05_16_2024_022240.txt\n",
      "Saved significant_means to /projects/p31666/zzhang/doublet-bchmk/data/cpdb_stats/FM01___ten/statistical_analysis_significant_means_05_16_2024_022240.txt\n",
      "AAAA\n",
      "/projects/b1042/GoyalLab/zzhang/functional_analysis_renamed/TREX___forty.txt\n",
      "AAAA\n",
      "AAAA\n",
      "/projects/b1042/GoyalLab/zzhang/functional_analysis_renamed/SPLINTR___control.txt\n",
      "AAAA\n",
      "AAAA\n",
      "/projects/b1042/GoyalLab/zzhang/functional_analysis_renamed/LARRY___ten.txt\n",
      "AAAA\n",
      "Reading user files...\n",
      "The following user files were loaded successfully:\n",
      "/projects/b1042/GoyalLab/zzhang/functional_analysis_renamed/FM02___ten.txt\n",
      "/projects/b1042/GoyalLab/zzhang/functional_analysis_renamed/FM02___ten_meta.csv\n",
      "[ ][CORE][16/05/24-02:24:05][INFO] [Cluster Statistical Analysis] Threshold:0.1 Iterations:1000 Debug-seed:-1 Threads:4 Precision:3\n",
      "[ ][CORE][16/05/24-02:24:06][INFO] Running Real Analysis\n",
      "[ ][CORE][16/05/24-02:24:06][INFO] Running Statistical Analysis\n"
     ]
    },
    {
     "name": "stderr",
     "output_type": "stream",
     "text": [
      "100%|██████████| 1000/1000 [01:37<00:00, 10.26it/s]\n"
     ]
    },
    {
     "name": "stdout",
     "output_type": "stream",
     "text": [
      "[ ][CORE][16/05/24-02:25:46][INFO] Building Pvalues result\n",
      "[ ][CORE][16/05/24-02:25:46][INFO] Building results\n",
      "Saved deconvoluted to /projects/p31666/zzhang/doublet-bchmk/data/cpdb_stats/FM02___ten/statistical_analysis_deconvoluted_05_16_2024_022546.txt\n",
      "Saved deconvoluted_percents to /projects/p31666/zzhang/doublet-bchmk/data/cpdb_stats/FM02___ten/statistical_analysis_deconvoluted_percents_05_16_2024_022546.txt\n",
      "Saved means to /projects/p31666/zzhang/doublet-bchmk/data/cpdb_stats/FM02___ten/statistical_analysis_means_05_16_2024_022546.txt\n",
      "Saved pvalues to /projects/p31666/zzhang/doublet-bchmk/data/cpdb_stats/FM02___ten/statistical_analysis_pvalues_05_16_2024_022546.txt\n",
      "Saved significant_means to /projects/p31666/zzhang/doublet-bchmk/data/cpdb_stats/FM02___ten/statistical_analysis_significant_means_05_16_2024_022546.txt\n",
      "Reading user files...\n",
      "The following user files were loaded successfully:\n",
      "/projects/b1042/GoyalLab/zzhang/functional_analysis_renamed/FM05___twenty.txt\n",
      "/projects/b1042/GoyalLab/zzhang/functional_analysis_renamed/FM05___twenty_meta.csv\n",
      "[ ][CORE][16/05/24-02:29:12][INFO] [Cluster Statistical Analysis] Threshold:0.1 Iterations:1000 Debug-seed:-1 Threads:4 Precision:3\n",
      "[ ][CORE][16/05/24-02:29:14][INFO] Running Real Analysis\n",
      "[ ][CORE][16/05/24-02:29:14][INFO] Running Statistical Analysis\n"
     ]
    },
    {
     "name": "stderr",
     "output_type": "stream",
     "text": [
      "100%|██████████| 1000/1000 [02:43<00:00,  6.11it/s]\n"
     ]
    },
    {
     "name": "stdout",
     "output_type": "stream",
     "text": [
      "[ ][CORE][16/05/24-02:32:00][INFO] Building Pvalues result\n",
      "[ ][CORE][16/05/24-02:32:00][INFO] Building results\n",
      "Saved deconvoluted to /projects/p31666/zzhang/doublet-bchmk/data/cpdb_stats/FM05___twenty/statistical_analysis_deconvoluted_05_16_2024_023200.txt\n",
      "Saved deconvoluted_percents to /projects/p31666/zzhang/doublet-bchmk/data/cpdb_stats/FM05___twenty/statistical_analysis_deconvoluted_percents_05_16_2024_023200.txt\n",
      "Saved means to /projects/p31666/zzhang/doublet-bchmk/data/cpdb_stats/FM05___twenty/statistical_analysis_means_05_16_2024_023200.txt\n",
      "Saved pvalues to /projects/p31666/zzhang/doublet-bchmk/data/cpdb_stats/FM05___twenty/statistical_analysis_pvalues_05_16_2024_023200.txt\n",
      "Saved significant_means to /projects/p31666/zzhang/doublet-bchmk/data/cpdb_stats/FM05___twenty/statistical_analysis_significant_means_05_16_2024_023200.txt\n",
      "Reading user files...\n",
      "The following user files were loaded successfully:\n",
      "/projects/b1042/GoyalLab/zzhang/functional_analysis_renamed/FM02___twenty.txt\n",
      "/projects/b1042/GoyalLab/zzhang/functional_analysis_renamed/FM02___twenty_meta.csv\n",
      "[ ][CORE][16/05/24-02:33:37][INFO] [Cluster Statistical Analysis] Threshold:0.1 Iterations:1000 Debug-seed:-1 Threads:4 Precision:3\n",
      "[ ][CORE][16/05/24-02:33:39][INFO] Running Real Analysis\n",
      "[ ][CORE][16/05/24-02:33:39][INFO] Running Statistical Analysis\n"
     ]
    },
    {
     "name": "stderr",
     "output_type": "stream",
     "text": [
      "100%|██████████| 1000/1000 [02:11<00:00,  7.63it/s]\n"
     ]
    },
    {
     "name": "stdout",
     "output_type": "stream",
     "text": [
      "[ ][CORE][16/05/24-02:35:53][INFO] Building Pvalues result\n",
      "[ ][CORE][16/05/24-02:35:53][INFO] Building results\n",
      "Saved deconvoluted to /projects/p31666/zzhang/doublet-bchmk/data/cpdb_stats/FM02___twenty/statistical_analysis_deconvoluted_05_16_2024_023553.txt\n",
      "Saved deconvoluted_percents to /projects/p31666/zzhang/doublet-bchmk/data/cpdb_stats/FM02___twenty/statistical_analysis_deconvoluted_percents_05_16_2024_023553.txt\n",
      "Saved means to /projects/p31666/zzhang/doublet-bchmk/data/cpdb_stats/FM02___twenty/statistical_analysis_means_05_16_2024_023553.txt\n",
      "Saved pvalues to /projects/p31666/zzhang/doublet-bchmk/data/cpdb_stats/FM02___twenty/statistical_analysis_pvalues_05_16_2024_023553.txt\n",
      "Saved significant_means to /projects/p31666/zzhang/doublet-bchmk/data/cpdb_stats/FM02___twenty/statistical_analysis_significant_means_05_16_2024_023553.txt\n"
     ]
    }
   ],
   "source": [
    "for cur_count_file in count_files:\n",
    "    if any(keyword in cur_count_file for keyword in keywords):\n",
    "        print(\"AAAA\")\n",
    "        print(cur_count_file)\n",
    "        print(\"AAAA\")\n",
    "        continue\n",
    "    cur_meta_file = os.path.splitext(cur_count_file)[0] + \"_meta.csv\"\n",
    "    cur_sample_id = os.path.splitext(os.path.basename(cur_count_file))[0]\n",
    "    cur_output_prefix = f\"{output_dir}/{cur_sample_id}\"\n",
    "    \n",
    "    cpdb_results = cpdb_statistical_analysis_method.call(\n",
    "        cpdb_file_path = cpdb_file_path,           # mandatory: CellphoneDB database zip file.\n",
    "        meta_file_path = cur_meta_file,           # mandatory: tsv file defining barcodes to cell label.\n",
    "        counts_file_path = cur_count_file,       # mandatory: normalized count matrix - a path to the counts file, or an in-memory AnnData object\n",
    "        output_path = cur_output_prefix,\n",
    "        counts_data = 'hgnc_symbol'\n",
    "    )\n",
    "    "
   ]
  },
  {
   "cell_type": "code",
   "execution_count": null,
   "id": "776b2aa9",
   "metadata": {},
   "outputs": [
    {
     "name": "stdout",
     "output_type": "stream",
     "text": [
      "[ ][CORE][15/05/24-14:57:46][INFO] [Non Statistical Method] Threshold:0.1 Precision:3\n",
      "Reading user files...\n",
      "The following user files were loaded successfully:\n",
      "/projects/b1042/GoyalLab/zzhang/functional_analysis_renamed/FM08___control.txt\n",
      "/projects/b1042/GoyalLab/zzhang/functional_analysis_renamed/FM08___control_meta.csv\n",
      "[ ][CORE][15/05/24-14:58:11][INFO] Running Basic Analysis\n",
      "[ ][CORE][15/05/24-14:58:11][INFO] Building results\n",
      "Saved means_result to /projects/p31666/zzhang/doublet-bchmk/data/cpdb/FM08___control/simple_analysis_means_result_05_15_2024_145811.txt\n",
      "Saved deconvoluted to /projects/p31666/zzhang/doublet-bchmk/data/cpdb/FM08___control/simple_analysis_deconvoluted_05_15_2024_145811.txt\n",
      "Saved deconvoluted_percents to /projects/p31666/zzhang/doublet-bchmk/data/cpdb/FM08___control/simple_analysis_deconvoluted_percents_05_15_2024_145811.txt\n",
      "[ ][CORE][15/05/24-14:58:11][INFO] [Non Statistical Method] Threshold:0.1 Precision:3\n",
      "Reading user files...\n",
      "The following user files were loaded successfully:\n",
      "/projects/b1042/GoyalLab/zzhang/functional_analysis_renamed/FM08___forty.txt\n",
      "/projects/b1042/GoyalLab/zzhang/functional_analysis_renamed/FM08___forty_meta.csv\n",
      "[ ][CORE][15/05/24-14:58:51][INFO] Running Basic Analysis\n",
      "[ ][CORE][15/05/24-14:58:51][INFO] Building results\n",
      "Saved means_result to /projects/p31666/zzhang/doublet-bchmk/data/cpdb/FM08___forty/simple_analysis_means_result_05_15_2024_145851.txt\n",
      "Saved deconvoluted to /projects/p31666/zzhang/doublet-bchmk/data/cpdb/FM08___forty/simple_analysis_deconvoluted_05_15_2024_145851.txt\n",
      "Saved deconvoluted_percents to /projects/p31666/zzhang/doublet-bchmk/data/cpdb/FM08___forty/simple_analysis_deconvoluted_percents_05_15_2024_145851.txt\n",
      "[ ][CORE][15/05/24-14:58:51][INFO] [Non Statistical Method] Threshold:0.1 Precision:3\n",
      "Reading user files...\n",
      "The following user files were loaded successfully:\n",
      "/projects/b1042/GoyalLab/zzhang/functional_analysis_renamed/cellTag___ten.txt\n",
      "/projects/b1042/GoyalLab/zzhang/functional_analysis_renamed/cellTag___ten_meta.csv\n",
      "[ ][CORE][15/05/24-14:58:59][INFO] No CellphoneDB interactions found in this input.\n",
      "[ ][CORE][15/05/24-14:58:59][INFO] [Non Statistical Method] Threshold:0.1 Precision:3\n",
      "Reading user files...\n",
      "The following user files were loaded successfully:\n",
      "/projects/b1042/GoyalLab/zzhang/functional_analysis_renamed/TREX___ten.txt\n",
      "/projects/b1042/GoyalLab/zzhang/functional_analysis_renamed/TREX___ten_meta.csv\n",
      "[ ][CORE][15/05/24-14:59:31][INFO] No CellphoneDB interactions found in this input.\n",
      "[ ][CORE][15/05/24-14:59:31][INFO] [Non Statistical Method] Threshold:0.1 Precision:3\n",
      "Reading user files...\n",
      "The following user files were loaded successfully:\n",
      "/projects/b1042/GoyalLab/zzhang/functional_analysis_renamed/LARRY___forty.txt\n",
      "/projects/b1042/GoyalLab/zzhang/functional_analysis_renamed/LARRY___forty_meta.csv\n",
      "[ ][CORE][15/05/24-15:10:23][INFO] No CellphoneDB interactions found in this input.\n",
      "[ ][CORE][15/05/24-15:10:23][INFO] [Non Statistical Method] Threshold:0.1 Precision:3\n",
      "Reading user files...\n",
      "The following user files were loaded successfully:\n",
      "/projects/b1042/GoyalLab/zzhang/functional_analysis_renamed/FM04___ten.txt\n",
      "/projects/b1042/GoyalLab/zzhang/functional_analysis_renamed/FM04___ten_meta.csv\n",
      "[ ][CORE][15/05/24-15:11:46][INFO] Running Basic Analysis\n",
      "[ ][CORE][15/05/24-15:11:46][INFO] Building results\n",
      "Saved means_result to /projects/p31666/zzhang/doublet-bchmk/data/cpdb/FM04___ten/simple_analysis_means_result_05_15_2024_151146.txt\n",
      "Saved deconvoluted to /projects/p31666/zzhang/doublet-bchmk/data/cpdb/FM04___ten/simple_analysis_deconvoluted_05_15_2024_151146.txt\n",
      "Saved deconvoluted_percents to /projects/p31666/zzhang/doublet-bchmk/data/cpdb/FM04___ten/simple_analysis_deconvoluted_percents_05_15_2024_151146.txt\n",
      "[ ][CORE][15/05/24-15:11:46][INFO] [Non Statistical Method] Threshold:0.1 Precision:3\n",
      "Reading user files...\n",
      "The following user files were loaded successfully:\n",
      "/projects/b1042/GoyalLab/zzhang/functional_analysis_renamed/FM08___twenty.txt\n",
      "/projects/b1042/GoyalLab/zzhang/functional_analysis_renamed/FM08___twenty_meta.csv\n",
      "[ ][CORE][15/05/24-15:12:14][INFO] Running Basic Analysis\n",
      "[ ][CORE][15/05/24-15:12:14][INFO] Building results\n",
      "Saved means_result to /projects/p31666/zzhang/doublet-bchmk/data/cpdb/FM08___twenty/simple_analysis_means_result_05_15_2024_151215.txt\n",
      "Saved deconvoluted to /projects/p31666/zzhang/doublet-bchmk/data/cpdb/FM08___twenty/simple_analysis_deconvoluted_05_15_2024_151215.txt\n",
      "Saved deconvoluted_percents to /projects/p31666/zzhang/doublet-bchmk/data/cpdb/FM08___twenty/simple_analysis_deconvoluted_percents_05_15_2024_151215.txt\n",
      "[ ][CORE][15/05/24-15:12:15][INFO] [Non Statistical Method] Threshold:0.1 Precision:3\n",
      "Reading user files...\n",
      "The following user files were loaded successfully:\n",
      "/projects/b1042/GoyalLab/zzhang/functional_analysis_renamed/FM06___control.txt\n",
      "/projects/b1042/GoyalLab/zzhang/functional_analysis_renamed/FM06___control_meta.csv\n",
      "[ ][CORE][15/05/24-15:13:50][INFO] Running Basic Analysis\n",
      "[ ][CORE][15/05/24-15:13:50][INFO] Building results\n",
      "Saved means_result to /projects/p31666/zzhang/doublet-bchmk/data/cpdb/FM06___control/simple_analysis_means_result_05_15_2024_151350.txt\n",
      "Saved deconvoluted to /projects/p31666/zzhang/doublet-bchmk/data/cpdb/FM06___control/simple_analysis_deconvoluted_05_15_2024_151350.txt\n",
      "Saved deconvoluted_percents to /projects/p31666/zzhang/doublet-bchmk/data/cpdb/FM06___control/simple_analysis_deconvoluted_percents_05_15_2024_151350.txt\n",
      "[ ][CORE][15/05/24-15:13:50][INFO] [Non Statistical Method] Threshold:0.1 Precision:3\n",
      "Reading user files...\n",
      "The following user files were loaded successfully:\n",
      "/projects/b1042/GoyalLab/zzhang/functional_analysis_renamed/TREX___twenty.txt\n",
      "/projects/b1042/GoyalLab/zzhang/functional_analysis_renamed/TREX___twenty_meta.csv\n",
      "[ ][CORE][15/05/24-15:14:43][INFO] No CellphoneDB interactions found in this input.\n",
      "[ ][CORE][15/05/24-15:14:43][INFO] [Non Statistical Method] Threshold:0.1 Precision:3\n",
      "Reading user files...\n",
      "The following user files were loaded successfully:\n",
      "/projects/b1042/GoyalLab/zzhang/functional_analysis_renamed/ClonMapper___control.txt\n",
      "/projects/b1042/GoyalLab/zzhang/functional_analysis_renamed/ClonMapper___control_meta.csv\n",
      "[ ][CORE][15/05/24-15:15:22][INFO] Running Basic Analysis\n",
      "[ ][CORE][15/05/24-15:15:22][INFO] Building results\n",
      "Saved means_result to /projects/p31666/zzhang/doublet-bchmk/data/cpdb/ClonMapper___control/simple_analysis_means_result_05_15_2024_151522.txt\n",
      "Saved deconvoluted to /projects/p31666/zzhang/doublet-bchmk/data/cpdb/ClonMapper___control/simple_analysis_deconvoluted_05_15_2024_151522.txt\n",
      "Saved deconvoluted_percents to /projects/p31666/zzhang/doublet-bchmk/data/cpdb/ClonMapper___control/simple_analysis_deconvoluted_percents_05_15_2024_151522.txt\n",
      "[ ][CORE][15/05/24-15:15:22][INFO] [Non Statistical Method] Threshold:0.1 Precision:3\n",
      "Reading user files...\n",
      "The following user files were loaded successfully:\n",
      "/projects/b1042/GoyalLab/zzhang/functional_analysis_renamed/SPLINTR___twenty.txt\n",
      "/projects/b1042/GoyalLab/zzhang/functional_analysis_renamed/SPLINTR___twenty_meta.csv\n",
      "[ ][CORE][15/05/24-15:28:14][INFO] No CellphoneDB interactions found in this input.\n",
      "[ ][CORE][15/05/24-15:28:14][INFO] [Non Statistical Method] Threshold:0.1 Precision:3\n",
      "Reading user files...\n",
      "The following user files were loaded successfully:\n",
      "/projects/b1042/GoyalLab/zzhang/functional_analysis_renamed/non_cancer___forty.txt\n",
      "/projects/b1042/GoyalLab/zzhang/functional_analysis_renamed/non_cancer___forty_meta.csv\n",
      "[ ][CORE][15/05/24-15:28:47][INFO] Running Basic Analysis\n",
      "[ ][CORE][15/05/24-15:28:47][INFO] Building results\n",
      "Saved means_result to /projects/p31666/zzhang/doublet-bchmk/data/cpdb/non_cancer___forty/simple_analysis_means_result_05_15_2024_152847.txt\n",
      "Saved deconvoluted to /projects/p31666/zzhang/doublet-bchmk/data/cpdb/non_cancer___forty/simple_analysis_deconvoluted_05_15_2024_152847.txt\n",
      "Saved deconvoluted_percents to /projects/p31666/zzhang/doublet-bchmk/data/cpdb/non_cancer___forty/simple_analysis_deconvoluted_percents_05_15_2024_152847.txt\n",
      "[ ][CORE][15/05/24-15:28:47][INFO] [Non Statistical Method] Threshold:0.1 Precision:3\n",
      "Reading user files...\n",
      "The following user files were loaded successfully:\n",
      "/projects/b1042/GoyalLab/zzhang/functional_analysis_renamed/watermelon___ten.txt\n",
      "/projects/b1042/GoyalLab/zzhang/functional_analysis_renamed/watermelon___ten_meta.csv\n"
     ]
    },
    {
     "name": "stdout",
     "output_type": "stream",
     "text": [
      "[ ][CORE][15/05/24-15:40:53][INFO] Running Basic Analysis\n",
      "[ ][CORE][15/05/24-15:40:53][INFO] Building results\n",
      "Saved means_result to /projects/p31666/zzhang/doublet-bchmk/data/cpdb/watermelon___ten/simple_analysis_means_result_05_15_2024_154053.txt\n",
      "Saved deconvoluted to /projects/p31666/zzhang/doublet-bchmk/data/cpdb/watermelon___ten/simple_analysis_deconvoluted_05_15_2024_154053.txt\n",
      "Saved deconvoluted_percents to /projects/p31666/zzhang/doublet-bchmk/data/cpdb/watermelon___ten/simple_analysis_deconvoluted_percents_05_15_2024_154053.txt\n",
      "[ ][CORE][15/05/24-15:40:53][INFO] [Non Statistical Method] Threshold:0.1 Precision:3\n",
      "Reading user files...\n",
      "The following user files were loaded successfully:\n",
      "/projects/b1042/GoyalLab/zzhang/functional_analysis_renamed/SPLINTR___ten.txt\n",
      "/projects/b1042/GoyalLab/zzhang/functional_analysis_renamed/SPLINTR___ten_meta.csv\n",
      "[ ][CORE][15/05/24-15:52:15][INFO] No CellphoneDB interactions found in this input.\n",
      "[ ][CORE][15/05/24-15:52:15][INFO] [Non Statistical Method] Threshold:0.1 Precision:3\n",
      "Reading user files...\n",
      "The following user files were loaded successfully:\n",
      "/projects/b1042/GoyalLab/zzhang/functional_analysis_renamed/FM04___twenty.txt\n",
      "/projects/b1042/GoyalLab/zzhang/functional_analysis_renamed/FM04___twenty_meta.csv\n",
      "[ ][CORE][15/05/24-15:53:48][INFO] Running Basic Analysis\n",
      "[ ][CORE][15/05/24-15:53:48][INFO] Building results\n",
      "Saved means_result to /projects/p31666/zzhang/doublet-bchmk/data/cpdb/FM04___twenty/simple_analysis_means_result_05_15_2024_155348.txt\n",
      "Saved deconvoluted to /projects/p31666/zzhang/doublet-bchmk/data/cpdb/FM04___twenty/simple_analysis_deconvoluted_05_15_2024_155348.txt\n",
      "Saved deconvoluted_percents to /projects/p31666/zzhang/doublet-bchmk/data/cpdb/FM04___twenty/simple_analysis_deconvoluted_percents_05_15_2024_155348.txt\n",
      "[ ][CORE][15/05/24-15:53:49][INFO] [Non Statistical Method] Threshold:0.1 Precision:3\n",
      "Reading user files...\n",
      "The following user files were loaded successfully:\n",
      "/projects/b1042/GoyalLab/zzhang/functional_analysis_renamed/FM02___control.txt\n",
      "/projects/b1042/GoyalLab/zzhang/functional_analysis_renamed/FM02___control_meta.csv\n",
      "[ ][CORE][15/05/24-15:55:03][INFO] Running Basic Analysis\n",
      "[ ][CORE][15/05/24-15:55:03][INFO] Building results\n",
      "Saved means_result to /projects/p31666/zzhang/doublet-bchmk/data/cpdb/FM02___control/simple_analysis_means_result_05_15_2024_155503.txt\n",
      "Saved deconvoluted to /projects/p31666/zzhang/doublet-bchmk/data/cpdb/FM02___control/simple_analysis_deconvoluted_05_15_2024_155503.txt\n",
      "Saved deconvoluted_percents to /projects/p31666/zzhang/doublet-bchmk/data/cpdb/FM02___control/simple_analysis_deconvoluted_percents_05_15_2024_155503.txt\n",
      "[ ][CORE][15/05/24-15:55:03][INFO] [Non Statistical Method] Threshold:0.1 Precision:3\n",
      "Reading user files...\n",
      "The following user files were loaded successfully:\n",
      "/projects/b1042/GoyalLab/zzhang/functional_analysis_renamed/watermelon___forty.txt\n",
      "/projects/b1042/GoyalLab/zzhang/functional_analysis_renamed/watermelon___forty_meta.csv\n",
      "[ ][CORE][15/05/24-16:16:10][INFO] Running Basic Analysis\n",
      "[ ][CORE][15/05/24-16:16:10][INFO] Building results\n",
      "Saved means_result to /projects/p31666/zzhang/doublet-bchmk/data/cpdb/watermelon___forty/simple_analysis_means_result_05_15_2024_161610.txt\n",
      "Saved deconvoluted to /projects/p31666/zzhang/doublet-bchmk/data/cpdb/watermelon___forty/simple_analysis_deconvoluted_05_15_2024_161610.txt\n",
      "Saved deconvoluted_percents to /projects/p31666/zzhang/doublet-bchmk/data/cpdb/watermelon___forty/simple_analysis_deconvoluted_percents_05_15_2024_161610.txt\n",
      "[ ][CORE][15/05/24-16:16:11][INFO] [Non Statistical Method] Threshold:0.1 Precision:3\n",
      "Reading user files...\n",
      "The following user files were loaded successfully:\n",
      "/projects/b1042/GoyalLab/zzhang/functional_analysis_renamed/ClonMapper___forty.txt\n",
      "/projects/b1042/GoyalLab/zzhang/functional_analysis_renamed/ClonMapper___forty_meta.csv\n",
      "[ ][CORE][15/05/24-16:18:16][INFO] Running Basic Analysis\n",
      "[ ][CORE][15/05/24-16:18:16][INFO] Building results\n",
      "Saved means_result to /projects/p31666/zzhang/doublet-bchmk/data/cpdb/ClonMapper___forty/simple_analysis_means_result_05_15_2024_161816.txt\n",
      "Saved deconvoluted to /projects/p31666/zzhang/doublet-bchmk/data/cpdb/ClonMapper___forty/simple_analysis_deconvoluted_05_15_2024_161816.txt\n",
      "Saved deconvoluted_percents to /projects/p31666/zzhang/doublet-bchmk/data/cpdb/ClonMapper___forty/simple_analysis_deconvoluted_percents_05_15_2024_161816.txt\n",
      "[ ][CORE][15/05/24-16:18:17][INFO] [Non Statistical Method] Threshold:0.1 Precision:3\n",
      "Reading user files...\n",
      "The following user files were loaded successfully:\n",
      "/projects/b1042/GoyalLab/zzhang/functional_analysis_renamed/watermelon___twenty.txt\n",
      "/projects/b1042/GoyalLab/zzhang/functional_analysis_renamed/watermelon___twenty_meta.csv\n",
      "[ ][CORE][15/05/24-16:35:29][INFO] Running Basic Analysis\n",
      "[ ][CORE][15/05/24-16:35:29][INFO] Building results\n",
      "Saved means_result to /projects/p31666/zzhang/doublet-bchmk/data/cpdb/watermelon___twenty/simple_analysis_means_result_05_15_2024_163529.txt\n",
      "Saved deconvoluted to /projects/p31666/zzhang/doublet-bchmk/data/cpdb/watermelon___twenty/simple_analysis_deconvoluted_05_15_2024_163529.txt\n",
      "Saved deconvoluted_percents to /projects/p31666/zzhang/doublet-bchmk/data/cpdb/watermelon___twenty/simple_analysis_deconvoluted_percents_05_15_2024_163529.txt\n",
      "[ ][CORE][15/05/24-16:35:30][INFO] [Non Statistical Method] Threshold:0.1 Precision:3\n",
      "Reading user files...\n",
      "The following user files were loaded successfully:\n",
      "/projects/b1042/GoyalLab/zzhang/functional_analysis_renamed/Biorxiv___control.txt\n",
      "/projects/b1042/GoyalLab/zzhang/functional_analysis_renamed/Biorxiv___control_meta.csv\n",
      "[ ][CORE][15/05/24-16:35:36][INFO] Running Basic Analysis\n",
      "[ ][CORE][15/05/24-16:35:36][INFO] Building results\n",
      "Saved means_result to /projects/p31666/zzhang/doublet-bchmk/data/cpdb/Biorxiv___control/simple_analysis_means_result_05_15_2024_163536.txt\n",
      "Saved deconvoluted to /projects/p31666/zzhang/doublet-bchmk/data/cpdb/Biorxiv___control/simple_analysis_deconvoluted_05_15_2024_163536.txt\n",
      "Saved deconvoluted_percents to /projects/p31666/zzhang/doublet-bchmk/data/cpdb/Biorxiv___control/simple_analysis_deconvoluted_percents_05_15_2024_163536.txt\n",
      "[ ][CORE][15/05/24-16:35:37][INFO] [Non Statistical Method] Threshold:0.1 Precision:3\n",
      "Reading user files...\n",
      "The following user files were loaded successfully:\n",
      "/projects/b1042/GoyalLab/zzhang/functional_analysis_renamed/FM05___forty.txt\n",
      "/projects/b1042/GoyalLab/zzhang/functional_analysis_renamed/FM05___forty_meta.csv\n",
      "[ ][CORE][15/05/24-16:41:26][INFO] Running Basic Analysis\n",
      "[ ][CORE][15/05/24-16:41:26][INFO] Building results\n",
      "Saved means_result to /projects/p31666/zzhang/doublet-bchmk/data/cpdb/FM05___forty/simple_analysis_means_result_05_15_2024_164127.txt\n",
      "Saved deconvoluted to /projects/p31666/zzhang/doublet-bchmk/data/cpdb/FM05___forty/simple_analysis_deconvoluted_05_15_2024_164127.txt\n",
      "Saved deconvoluted_percents to /projects/p31666/zzhang/doublet-bchmk/data/cpdb/FM05___forty/simple_analysis_deconvoluted_percents_05_15_2024_164127.txt\n",
      "[ ][CORE][15/05/24-16:41:27][INFO] [Non Statistical Method] Threshold:0.1 Precision:3\n",
      "Reading user files...\n",
      "The following user files were loaded successfully:\n",
      "/projects/b1042/GoyalLab/zzhang/functional_analysis_renamed/Biorxiv___forty.txt\n",
      "/projects/b1042/GoyalLab/zzhang/functional_analysis_renamed/Biorxiv___forty_meta.csv\n",
      "[ ][CORE][15/05/24-16:41:41][INFO] Running Basic Analysis\n",
      "[ ][CORE][15/05/24-16:41:41][INFO] Building results\n",
      "Saved means_result to /projects/p31666/zzhang/doublet-bchmk/data/cpdb/Biorxiv___forty/simple_analysis_means_result_05_15_2024_164141.txt\n",
      "Saved deconvoluted to /projects/p31666/zzhang/doublet-bchmk/data/cpdb/Biorxiv___forty/simple_analysis_deconvoluted_05_15_2024_164141.txt\n",
      "Saved deconvoluted_percents to /projects/p31666/zzhang/doublet-bchmk/data/cpdb/Biorxiv___forty/simple_analysis_deconvoluted_percents_05_15_2024_164141.txt\n",
      "[ ][CORE][15/05/24-16:41:41][INFO] [Non Statistical Method] Threshold:0.1 Precision:3\n",
      "Reading user files...\n",
      "The following user files were loaded successfully:\n",
      "/projects/b1042/GoyalLab/zzhang/functional_analysis_renamed/Biorxiv___twenty.txt\n",
      "/projects/b1042/GoyalLab/zzhang/functional_analysis_renamed/Biorxiv___twenty_meta.csv\n"
     ]
    },
    {
     "name": "stdout",
     "output_type": "stream",
     "text": [
      "[ ][CORE][15/05/24-16:41:50][INFO] Running Basic Analysis\n",
      "[ ][CORE][15/05/24-16:41:50][INFO] Building results\n",
      "Saved means_result to /projects/p31666/zzhang/doublet-bchmk/data/cpdb/Biorxiv___twenty/simple_analysis_means_result_05_15_2024_164150.txt\n",
      "Saved deconvoluted to /projects/p31666/zzhang/doublet-bchmk/data/cpdb/Biorxiv___twenty/simple_analysis_deconvoluted_05_15_2024_164150.txt\n",
      "Saved deconvoluted_percents to /projects/p31666/zzhang/doublet-bchmk/data/cpdb/Biorxiv___twenty/simple_analysis_deconvoluted_percents_05_15_2024_164150.txt\n",
      "[ ][CORE][15/05/24-16:41:51][INFO] [Non Statistical Method] Threshold:0.1 Precision:3\n",
      "Reading user files...\n",
      "The following user files were loaded successfully:\n",
      "/projects/b1042/GoyalLab/zzhang/functional_analysis_renamed/TREX___control.txt\n",
      "/projects/b1042/GoyalLab/zzhang/functional_analysis_renamed/TREX___control_meta.csv\n",
      "[ ][CORE][15/05/24-16:42:26][INFO] No CellphoneDB interactions found in this input.\n",
      "[ ][CORE][15/05/24-16:42:26][INFO] [Non Statistical Method] Threshold:0.1 Precision:3\n",
      "Reading user files...\n",
      "The following user files were loaded successfully:\n",
      "/projects/b1042/GoyalLab/zzhang/functional_analysis_renamed/FM05___control.txt\n",
      "/projects/b1042/GoyalLab/zzhang/functional_analysis_renamed/FM05___control_meta.csv\n",
      "[ ][CORE][15/05/24-16:44:32][INFO] Running Basic Analysis\n",
      "[ ][CORE][15/05/24-16:44:32][INFO] Building results\n",
      "Saved means_result to /projects/p31666/zzhang/doublet-bchmk/data/cpdb/FM05___control/simple_analysis_means_result_05_15_2024_164433.txt\n",
      "Saved deconvoluted to /projects/p31666/zzhang/doublet-bchmk/data/cpdb/FM05___control/simple_analysis_deconvoluted_05_15_2024_164433.txt\n",
      "Saved deconvoluted_percents to /projects/p31666/zzhang/doublet-bchmk/data/cpdb/FM05___control/simple_analysis_deconvoluted_percents_05_15_2024_164433.txt\n",
      "[ ][CORE][15/05/24-16:44:33][INFO] [Non Statistical Method] Threshold:0.1 Precision:3\n",
      "Reading user files...\n",
      "The following user files were loaded successfully:\n",
      "/projects/b1042/GoyalLab/zzhang/functional_analysis_renamed/FM03___forty.txt\n",
      "/projects/b1042/GoyalLab/zzhang/functional_analysis_renamed/FM03___forty_meta.csv\n",
      "[ ][CORE][15/05/24-16:45:10][INFO] Running Basic Analysis\n",
      "[ ][CORE][15/05/24-16:45:10][INFO] Building results\n",
      "Saved means_result to /projects/p31666/zzhang/doublet-bchmk/data/cpdb/FM03___forty/simple_analysis_means_result_05_15_2024_164510.txt\n",
      "Saved deconvoluted to /projects/p31666/zzhang/doublet-bchmk/data/cpdb/FM03___forty/simple_analysis_deconvoluted_05_15_2024_164510.txt\n",
      "Saved deconvoluted_percents to /projects/p31666/zzhang/doublet-bchmk/data/cpdb/FM03___forty/simple_analysis_deconvoluted_percents_05_15_2024_164510.txt\n",
      "[ ][CORE][15/05/24-16:45:10][INFO] [Non Statistical Method] Threshold:0.1 Precision:3\n",
      "Reading user files...\n",
      "The following user files were loaded successfully:\n",
      "/projects/b1042/GoyalLab/zzhang/functional_analysis_renamed/FM03___ten.txt\n",
      "/projects/b1042/GoyalLab/zzhang/functional_analysis_renamed/FM03___ten_meta.csv\n",
      "[ ][CORE][15/05/24-16:45:34][INFO] Running Basic Analysis\n",
      "[ ][CORE][15/05/24-16:45:34][INFO] Building results\n",
      "Saved means_result to /projects/p31666/zzhang/doublet-bchmk/data/cpdb/FM03___ten/simple_analysis_means_result_05_15_2024_164534.txt\n",
      "Saved deconvoluted to /projects/p31666/zzhang/doublet-bchmk/data/cpdb/FM03___ten/simple_analysis_deconvoluted_05_15_2024_164534.txt\n",
      "Saved deconvoluted_percents to /projects/p31666/zzhang/doublet-bchmk/data/cpdb/FM03___ten/simple_analysis_deconvoluted_percents_05_15_2024_164534.txt\n",
      "[ ][CORE][15/05/24-16:45:34][INFO] [Non Statistical Method] Threshold:0.1 Precision:3\n",
      "Reading user files...\n",
      "The following user files were loaded successfully:\n",
      "/projects/b1042/GoyalLab/zzhang/functional_analysis_renamed/FM03___control.txt\n",
      "/projects/b1042/GoyalLab/zzhang/functional_analysis_renamed/FM03___control_meta.csv\n",
      "[ ][CORE][15/05/24-16:45:50][INFO] Running Basic Analysis\n",
      "[ ][CORE][15/05/24-16:45:50][INFO] Building results\n",
      "Saved means_result to /projects/p31666/zzhang/doublet-bchmk/data/cpdb/FM03___control/simple_analysis_means_result_05_15_2024_164550.txt\n",
      "Saved deconvoluted to /projects/p31666/zzhang/doublet-bchmk/data/cpdb/FM03___control/simple_analysis_deconvoluted_05_15_2024_164550.txt\n",
      "Saved deconvoluted_percents to /projects/p31666/zzhang/doublet-bchmk/data/cpdb/FM03___control/simple_analysis_deconvoluted_percents_05_15_2024_164550.txt\n",
      "[ ][CORE][15/05/24-16:45:50][INFO] [Non Statistical Method] Threshold:0.1 Precision:3\n",
      "Reading user files...\n",
      "The following user files were loaded successfully:\n",
      "/projects/b1042/GoyalLab/zzhang/functional_analysis_renamed/FM06___twenty.txt\n",
      "/projects/b1042/GoyalLab/zzhang/functional_analysis_renamed/FM06___twenty_meta.csv\n",
      "[ ][CORE][15/05/24-16:50:00][INFO] Running Basic Analysis\n",
      "[ ][CORE][15/05/24-16:50:00][INFO] Building results\n",
      "Saved means_result to /projects/p31666/zzhang/doublet-bchmk/data/cpdb/FM06___twenty/simple_analysis_means_result_05_15_2024_165000.txt\n",
      "Saved deconvoluted to /projects/p31666/zzhang/doublet-bchmk/data/cpdb/FM06___twenty/simple_analysis_deconvoluted_05_15_2024_165000.txt\n",
      "Saved deconvoluted_percents to /projects/p31666/zzhang/doublet-bchmk/data/cpdb/FM06___twenty/simple_analysis_deconvoluted_percents_05_15_2024_165000.txt\n",
      "[ ][CORE][15/05/24-16:50:00][INFO] [Non Statistical Method] Threshold:0.1 Precision:3\n",
      "Reading user files...\n",
      "The following user files were loaded successfully:\n",
      "/projects/b1042/GoyalLab/zzhang/functional_analysis_renamed/SPLINTR___forty.txt\n",
      "/projects/b1042/GoyalLab/zzhang/functional_analysis_renamed/SPLINTR___forty_meta.csv\n",
      "[ ][CORE][15/05/24-17:11:08][INFO] No CellphoneDB interactions found in this input.\n",
      "[ ][CORE][15/05/24-17:11:08][INFO] [Non Statistical Method] Threshold:0.1 Precision:3\n",
      "Reading user files...\n",
      "The following user files were loaded successfully:\n",
      "/projects/b1042/GoyalLab/zzhang/functional_analysis_renamed/FM05___ten.txt\n",
      "/projects/b1042/GoyalLab/zzhang/functional_analysis_renamed/FM05___ten_meta.csv\n",
      "[ ][CORE][15/05/24-17:13:26][INFO] Running Basic Analysis\n",
      "[ ][CORE][15/05/24-17:13:26][INFO] Building results\n",
      "Saved means_result to /projects/p31666/zzhang/doublet-bchmk/data/cpdb/FM05___ten/simple_analysis_means_result_05_15_2024_171327.txt\n",
      "Saved deconvoluted to /projects/p31666/zzhang/doublet-bchmk/data/cpdb/FM05___ten/simple_analysis_deconvoluted_05_15_2024_171327.txt\n",
      "Saved deconvoluted_percents to /projects/p31666/zzhang/doublet-bchmk/data/cpdb/FM05___ten/simple_analysis_deconvoluted_percents_05_15_2024_171327.txt\n",
      "[ ][CORE][15/05/24-17:13:27][INFO] [Non Statistical Method] Threshold:0.1 Precision:3\n",
      "Reading user files...\n",
      "The following user files were loaded successfully:\n",
      "/projects/b1042/GoyalLab/zzhang/functional_analysis_renamed/LARRY___twenty.txt\n",
      "/projects/b1042/GoyalLab/zzhang/functional_analysis_renamed/LARRY___twenty_meta.csv\n",
      "[ ][CORE][15/05/24-17:23:02][INFO] No CellphoneDB interactions found in this input.\n",
      "[ ][CORE][15/05/24-17:23:02][INFO] [Non Statistical Method] Threshold:0.1 Precision:3\n",
      "Reading user files...\n",
      "The following user files were loaded successfully:\n",
      "/projects/b1042/GoyalLab/zzhang/functional_analysis_renamed/non_cancer___control.txt\n",
      "/projects/b1042/GoyalLab/zzhang/functional_analysis_renamed/non_cancer___control_meta.csv\n",
      "[ ][CORE][15/05/24-17:23:17][INFO] Running Basic Analysis\n",
      "[ ][CORE][15/05/24-17:23:17][INFO] Building results\n",
      "Saved means_result to /projects/p31666/zzhang/doublet-bchmk/data/cpdb/non_cancer___control/simple_analysis_means_result_05_15_2024_172317.txt\n",
      "Saved deconvoluted to /projects/p31666/zzhang/doublet-bchmk/data/cpdb/non_cancer___control/simple_analysis_deconvoluted_05_15_2024_172317.txt\n",
      "Saved deconvoluted_percents to /projects/p31666/zzhang/doublet-bchmk/data/cpdb/non_cancer___control/simple_analysis_deconvoluted_percents_05_15_2024_172317.txt\n",
      "[ ][CORE][15/05/24-17:23:17][INFO] [Non Statistical Method] Threshold:0.1 Precision:3\n",
      "Reading user files...\n",
      "The following user files were loaded successfully:\n",
      "/projects/b1042/GoyalLab/zzhang/functional_analysis_renamed/Biorxiv___ten.txt\n",
      "/projects/b1042/GoyalLab/zzhang/functional_analysis_renamed/Biorxiv___ten_meta.csv\n",
      "[ ][CORE][15/05/24-17:23:23][INFO] Running Basic Analysis\n",
      "[ ][CORE][15/05/24-17:23:23][INFO] Building results\n",
      "Saved means_result to /projects/p31666/zzhang/doublet-bchmk/data/cpdb/Biorxiv___ten/simple_analysis_means_result_05_15_2024_172323.txt\n",
      "Saved deconvoluted to /projects/p31666/zzhang/doublet-bchmk/data/cpdb/Biorxiv___ten/simple_analysis_deconvoluted_05_15_2024_172323.txt\n",
      "Saved deconvoluted_percents to /projects/p31666/zzhang/doublet-bchmk/data/cpdb/Biorxiv___ten/simple_analysis_deconvoluted_percents_05_15_2024_172323.txt\n",
      "[ ][CORE][15/05/24-17:23:23][INFO] [Non Statistical Method] Threshold:0.1 Precision:3\n"
     ]
    },
    {
     "name": "stdout",
     "output_type": "stream",
     "text": [
      "Reading user files...\n",
      "The following user files were loaded successfully:\n",
      "/projects/b1042/GoyalLab/zzhang/functional_analysis_renamed/FM04___control.txt\n",
      "/projects/b1042/GoyalLab/zzhang/functional_analysis_renamed/FM04___control_meta.csv\n",
      "[ ][CORE][15/05/24-17:24:39][INFO] Running Basic Analysis\n",
      "[ ][CORE][15/05/24-17:24:39][INFO] Building results\n",
      "Saved means_result to /projects/p31666/zzhang/doublet-bchmk/data/cpdb/FM04___control/simple_analysis_means_result_05_15_2024_172439.txt\n",
      "Saved deconvoluted to /projects/p31666/zzhang/doublet-bchmk/data/cpdb/FM04___control/simple_analysis_deconvoluted_05_15_2024_172439.txt\n",
      "Saved deconvoluted_percents to /projects/p31666/zzhang/doublet-bchmk/data/cpdb/FM04___control/simple_analysis_deconvoluted_percents_05_15_2024_172439.txt\n",
      "[ ][CORE][15/05/24-17:24:39][INFO] [Non Statistical Method] Threshold:0.1 Precision:3\n",
      "Reading user files...\n",
      "The following user files were loaded successfully:\n",
      "/projects/b1042/GoyalLab/zzhang/functional_analysis_renamed/cellTag___forty.txt\n",
      "/projects/b1042/GoyalLab/zzhang/functional_analysis_renamed/cellTag___forty_meta.csv\n",
      "[ ][CORE][15/05/24-17:24:52][INFO] No CellphoneDB interactions found in this input.\n",
      "[ ][CORE][15/05/24-17:24:52][INFO] [Non Statistical Method] Threshold:0.1 Precision:3\n",
      "Reading user files...\n",
      "The following user files were loaded successfully:\n",
      "/projects/b1042/GoyalLab/zzhang/functional_analysis_renamed/FM02___forty.txt\n",
      "/projects/b1042/GoyalLab/zzhang/functional_analysis_renamed/FM02___forty_meta.csv\n",
      "[ ][CORE][15/05/24-17:28:20][INFO] Running Basic Analysis\n",
      "[ ][CORE][15/05/24-17:28:20][INFO] Building results\n",
      "Saved means_result to /projects/p31666/zzhang/doublet-bchmk/data/cpdb/FM02___forty/simple_analysis_means_result_05_15_2024_172820.txt\n",
      "Saved deconvoluted to /projects/p31666/zzhang/doublet-bchmk/data/cpdb/FM02___forty/simple_analysis_deconvoluted_05_15_2024_172820.txt\n",
      "Saved deconvoluted_percents to /projects/p31666/zzhang/doublet-bchmk/data/cpdb/FM02___forty/simple_analysis_deconvoluted_percents_05_15_2024_172820.txt\n",
      "[ ][CORE][15/05/24-17:28:20][INFO] [Non Statistical Method] Threshold:0.1 Precision:3\n",
      "Reading user files...\n",
      "The following user files were loaded successfully:\n",
      "/projects/b1042/GoyalLab/zzhang/functional_analysis_renamed/FM03___twenty.txt\n",
      "/projects/b1042/GoyalLab/zzhang/functional_analysis_renamed/FM03___twenty_meta.csv\n",
      "[ ][CORE][15/05/24-17:28:41][INFO] Running Basic Analysis\n",
      "[ ][CORE][15/05/24-17:28:41][INFO] Building results\n",
      "Saved means_result to /projects/p31666/zzhang/doublet-bchmk/data/cpdb/FM03___twenty/simple_analysis_means_result_05_15_2024_172841.txt\n",
      "Saved deconvoluted to /projects/p31666/zzhang/doublet-bchmk/data/cpdb/FM03___twenty/simple_analysis_deconvoluted_05_15_2024_172841.txt\n",
      "Saved deconvoluted_percents to /projects/p31666/zzhang/doublet-bchmk/data/cpdb/FM03___twenty/simple_analysis_deconvoluted_percents_05_15_2024_172841.txt\n",
      "[ ][CORE][15/05/24-17:28:41][INFO] [Non Statistical Method] Threshold:0.1 Precision:3\n",
      "Reading user files...\n",
      "The following user files were loaded successfully:\n",
      "/projects/b1042/GoyalLab/zzhang/functional_analysis_renamed/ClonMapper___twenty.txt\n",
      "/projects/b1042/GoyalLab/zzhang/functional_analysis_renamed/ClonMapper___twenty_meta.csv\n",
      "[ ][CORE][15/05/24-17:29:55][INFO] Running Basic Analysis\n",
      "[ ][CORE][15/05/24-17:29:55][INFO] Building results\n",
      "Saved means_result to /projects/p31666/zzhang/doublet-bchmk/data/cpdb/ClonMapper___twenty/simple_analysis_means_result_05_15_2024_172955.txt\n",
      "Saved deconvoluted to /projects/p31666/zzhang/doublet-bchmk/data/cpdb/ClonMapper___twenty/simple_analysis_deconvoluted_05_15_2024_172955.txt\n",
      "Saved deconvoluted_percents to /projects/p31666/zzhang/doublet-bchmk/data/cpdb/ClonMapper___twenty/simple_analysis_deconvoluted_percents_05_15_2024_172955.txt\n",
      "[ ][CORE][15/05/24-17:29:55][INFO] [Non Statistical Method] Threshold:0.1 Precision:3\n",
      "Reading user files...\n",
      "The following user files were loaded successfully:\n",
      "/projects/b1042/GoyalLab/zzhang/functional_analysis_renamed/FM08___ten.txt\n",
      "/projects/b1042/GoyalLab/zzhang/functional_analysis_renamed/FM08___ten_meta.csv\n",
      "[ ][CORE][15/05/24-17:30:19][INFO] Running Basic Analysis\n",
      "[ ][CORE][15/05/24-17:30:19][INFO] Building results\n",
      "Saved means_result to /projects/p31666/zzhang/doublet-bchmk/data/cpdb/FM08___ten/simple_analysis_means_result_05_15_2024_173019.txt\n",
      "Saved deconvoluted to /projects/p31666/zzhang/doublet-bchmk/data/cpdb/FM08___ten/simple_analysis_deconvoluted_05_15_2024_173019.txt\n",
      "Saved deconvoluted_percents to /projects/p31666/zzhang/doublet-bchmk/data/cpdb/FM08___ten/simple_analysis_deconvoluted_percents_05_15_2024_173019.txt\n",
      "[ ][CORE][15/05/24-17:30:20][INFO] [Non Statistical Method] Threshold:0.1 Precision:3\n",
      "Reading user files...\n",
      "The following user files were loaded successfully:\n",
      "/projects/b1042/GoyalLab/zzhang/functional_analysis_renamed/ClonMapper___ten.txt\n",
      "/projects/b1042/GoyalLab/zzhang/functional_analysis_renamed/ClonMapper___ten_meta.csv\n",
      "[ ][CORE][15/05/24-17:31:25][INFO] Running Basic Analysis\n",
      "[ ][CORE][15/05/24-17:31:25][INFO] Building results\n",
      "Saved means_result to /projects/p31666/zzhang/doublet-bchmk/data/cpdb/ClonMapper___ten/simple_analysis_means_result_05_15_2024_173125.txt\n",
      "Saved deconvoluted to /projects/p31666/zzhang/doublet-bchmk/data/cpdb/ClonMapper___ten/simple_analysis_deconvoluted_05_15_2024_173125.txt\n",
      "Saved deconvoluted_percents to /projects/p31666/zzhang/doublet-bchmk/data/cpdb/ClonMapper___ten/simple_analysis_deconvoluted_percents_05_15_2024_173125.txt\n",
      "[ ][CORE][15/05/24-17:31:25][INFO] [Non Statistical Method] Threshold:0.1 Precision:3\n",
      "Reading user files...\n",
      "The following user files were loaded successfully:\n",
      "/projects/b1042/GoyalLab/zzhang/functional_analysis_renamed/FM06___ten.txt\n",
      "/projects/b1042/GoyalLab/zzhang/functional_analysis_renamed/FM06___ten_meta.csv\n",
      "[ ][CORE][15/05/24-17:33:12][INFO] Running Basic Analysis\n",
      "[ ][CORE][15/05/24-17:33:12][INFO] Building results\n",
      "Saved means_result to /projects/p31666/zzhang/doublet-bchmk/data/cpdb/FM06___ten/simple_analysis_means_result_05_15_2024_173312.txt\n",
      "Saved deconvoluted to /projects/p31666/zzhang/doublet-bchmk/data/cpdb/FM06___ten/simple_analysis_deconvoluted_05_15_2024_173312.txt\n",
      "Saved deconvoluted_percents to /projects/p31666/zzhang/doublet-bchmk/data/cpdb/FM06___ten/simple_analysis_deconvoluted_percents_05_15_2024_173312.txt\n",
      "[ ][CORE][15/05/24-17:33:12][INFO] [Non Statistical Method] Threshold:0.1 Precision:3\n",
      "Reading user files...\n",
      "The following user files were loaded successfully:\n",
      "/projects/b1042/GoyalLab/zzhang/functional_analysis_renamed/non_cancer___ten.txt\n",
      "/projects/b1042/GoyalLab/zzhang/functional_analysis_renamed/non_cancer___ten_meta.csv\n",
      "[ ][CORE][15/05/24-17:33:27][INFO] Running Basic Analysis\n",
      "[ ][CORE][15/05/24-17:33:27][INFO] Building results\n",
      "Saved means_result to /projects/p31666/zzhang/doublet-bchmk/data/cpdb/non_cancer___ten/simple_analysis_means_result_05_15_2024_173327.txt\n",
      "Saved deconvoluted to /projects/p31666/zzhang/doublet-bchmk/data/cpdb/non_cancer___ten/simple_analysis_deconvoluted_05_15_2024_173327.txt\n",
      "Saved deconvoluted_percents to /projects/p31666/zzhang/doublet-bchmk/data/cpdb/non_cancer___ten/simple_analysis_deconvoluted_percents_05_15_2024_173327.txt\n",
      "[ ][CORE][15/05/24-17:33:28][INFO] [Non Statistical Method] Threshold:0.1 Precision:3\n",
      "Reading user files...\n",
      "The following user files were loaded successfully:\n",
      "/projects/b1042/GoyalLab/zzhang/functional_analysis_renamed/FM01___forty.txt\n",
      "/projects/b1042/GoyalLab/zzhang/functional_analysis_renamed/FM01___forty_meta.csv\n",
      "[ ][CORE][15/05/24-17:35:18][INFO] Running Basic Analysis\n",
      "[ ][CORE][15/05/24-17:35:18][INFO] Building results\n",
      "Saved means_result to /projects/p31666/zzhang/doublet-bchmk/data/cpdb/FM01___forty/simple_analysis_means_result_05_15_2024_173518.txt\n",
      "Saved deconvoluted to /projects/p31666/zzhang/doublet-bchmk/data/cpdb/FM01___forty/simple_analysis_deconvoluted_05_15_2024_173518.txt\n",
      "Saved deconvoluted_percents to /projects/p31666/zzhang/doublet-bchmk/data/cpdb/FM01___forty/simple_analysis_deconvoluted_percents_05_15_2024_173518.txt\n",
      "[ ][CORE][15/05/24-17:35:18][INFO] [Non Statistical Method] Threshold:0.1 Precision:3\n",
      "Reading user files...\n",
      "The following user files were loaded successfully:\n",
      "/projects/b1042/GoyalLab/zzhang/functional_analysis_renamed/FM06___forty.txt\n",
      "/projects/b1042/GoyalLab/zzhang/functional_analysis_renamed/FM06___forty_meta.csv\n"
     ]
    },
    {
     "name": "stdout",
     "output_type": "stream",
     "text": [
      "[ ][CORE][15/05/24-17:39:46][INFO] Running Basic Analysis\n",
      "[ ][CORE][15/05/24-17:39:46][INFO] Building results\n",
      "Saved means_result to /projects/p31666/zzhang/doublet-bchmk/data/cpdb/FM06___forty/simple_analysis_means_result_05_15_2024_173946.txt\n",
      "Saved deconvoluted to /projects/p31666/zzhang/doublet-bchmk/data/cpdb/FM06___forty/simple_analysis_deconvoluted_05_15_2024_173946.txt\n",
      "Saved deconvoluted_percents to /projects/p31666/zzhang/doublet-bchmk/data/cpdb/FM06___forty/simple_analysis_deconvoluted_percents_05_15_2024_173946.txt\n",
      "[ ][CORE][15/05/24-17:39:46][INFO] [Non Statistical Method] Threshold:0.1 Precision:3\n",
      "Reading user files...\n",
      "The following user files were loaded successfully:\n",
      "/projects/b1042/GoyalLab/zzhang/functional_analysis_renamed/cellTag___control.txt\n",
      "/projects/b1042/GoyalLab/zzhang/functional_analysis_renamed/cellTag___control_meta.csv\n",
      "[ ][CORE][15/05/24-17:39:53][INFO] No CellphoneDB interactions found in this input.\n",
      "[ ][CORE][15/05/24-17:39:53][INFO] [Non Statistical Method] Threshold:0.1 Precision:3\n",
      "Reading user files...\n",
      "The following user files were loaded successfully:\n",
      "/projects/b1042/GoyalLab/zzhang/functional_analysis_renamed/LARRY___control.txt\n",
      "/projects/b1042/GoyalLab/zzhang/functional_analysis_renamed/LARRY___control_meta.csv\n",
      "[ ][CORE][15/05/24-17:43:25][INFO] No CellphoneDB interactions found in this input.\n",
      "[ ][CORE][15/05/24-17:43:25][INFO] [Non Statistical Method] Threshold:0.1 Precision:3\n",
      "Reading user files...\n",
      "The following user files were loaded successfully:\n",
      "/projects/b1042/GoyalLab/zzhang/functional_analysis_renamed/FM01___control.txt\n",
      "/projects/b1042/GoyalLab/zzhang/functional_analysis_renamed/FM01___control_meta.csv\n",
      "[ ][CORE][15/05/24-17:44:28][INFO] Running Basic Analysis\n",
      "[ ][CORE][15/05/24-17:44:28][INFO] Building results\n",
      "Saved means_result to /projects/p31666/zzhang/doublet-bchmk/data/cpdb/FM01___control/simple_analysis_means_result_05_15_2024_174428.txt\n",
      "Saved deconvoluted to /projects/p31666/zzhang/doublet-bchmk/data/cpdb/FM01___control/simple_analysis_deconvoluted_05_15_2024_174428.txt\n",
      "Saved deconvoluted_percents to /projects/p31666/zzhang/doublet-bchmk/data/cpdb/FM01___control/simple_analysis_deconvoluted_percents_05_15_2024_174428.txt\n",
      "[ ][CORE][15/05/24-17:44:29][INFO] [Non Statistical Method] Threshold:0.1 Precision:3\n",
      "Reading user files...\n",
      "The following user files were loaded successfully:\n",
      "/projects/b1042/GoyalLab/zzhang/functional_analysis_renamed/FM01___twenty.txt\n",
      "/projects/b1042/GoyalLab/zzhang/functional_analysis_renamed/FM01___twenty_meta.csv\n",
      "[ ][CORE][15/05/24-17:45:50][INFO] Running Basic Analysis\n",
      "[ ][CORE][15/05/24-17:45:50][INFO] Building results\n",
      "Saved means_result to /projects/p31666/zzhang/doublet-bchmk/data/cpdb/FM01___twenty/simple_analysis_means_result_05_15_2024_174550.txt\n",
      "Saved deconvoluted to /projects/p31666/zzhang/doublet-bchmk/data/cpdb/FM01___twenty/simple_analysis_deconvoluted_05_15_2024_174550.txt\n",
      "Saved deconvoluted_percents to /projects/p31666/zzhang/doublet-bchmk/data/cpdb/FM01___twenty/simple_analysis_deconvoluted_percents_05_15_2024_174550.txt\n",
      "[ ][CORE][15/05/24-17:45:50][INFO] [Non Statistical Method] Threshold:0.1 Precision:3\n",
      "Reading user files...\n",
      "The following user files were loaded successfully:\n",
      "/projects/b1042/GoyalLab/zzhang/functional_analysis_renamed/cellTag___twenty.txt\n",
      "/projects/b1042/GoyalLab/zzhang/functional_analysis_renamed/cellTag___twenty_meta.csv\n",
      "[ ][CORE][15/05/24-17:45:59][INFO] No CellphoneDB interactions found in this input.\n",
      "[ ][CORE][15/05/24-17:45:59][INFO] [Non Statistical Method] Threshold:0.1 Precision:3\n",
      "Reading user files...\n",
      "The following user files were loaded successfully:\n",
      "/projects/b1042/GoyalLab/zzhang/functional_analysis_renamed/non_cancer___twenty.txt\n",
      "/projects/b1042/GoyalLab/zzhang/functional_analysis_renamed/non_cancer___twenty_meta.csv\n",
      "[ ][CORE][15/05/24-17:46:22][INFO] Running Basic Analysis\n",
      "[ ][CORE][15/05/24-17:46:22][INFO] Building results\n",
      "Saved means_result to /projects/p31666/zzhang/doublet-bchmk/data/cpdb/non_cancer___twenty/simple_analysis_means_result_05_15_2024_174622.txt\n",
      "Saved deconvoluted to /projects/p31666/zzhang/doublet-bchmk/data/cpdb/non_cancer___twenty/simple_analysis_deconvoluted_05_15_2024_174622.txt\n",
      "Saved deconvoluted_percents to /projects/p31666/zzhang/doublet-bchmk/data/cpdb/non_cancer___twenty/simple_analysis_deconvoluted_percents_05_15_2024_174622.txt\n",
      "[ ][CORE][15/05/24-17:46:22][INFO] [Non Statistical Method] Threshold:0.1 Precision:3\n",
      "Reading user files...\n",
      "The following user files were loaded successfully:\n",
      "/projects/b1042/GoyalLab/zzhang/functional_analysis_renamed/FM04___forty.txt\n",
      "/projects/b1042/GoyalLab/zzhang/functional_analysis_renamed/FM04___forty_meta.csv\n",
      "[ ][CORE][15/05/24-17:49:47][INFO] Running Basic Analysis\n",
      "[ ][CORE][15/05/24-17:49:47][INFO] Building results\n",
      "Saved means_result to /projects/p31666/zzhang/doublet-bchmk/data/cpdb/FM04___forty/simple_analysis_means_result_05_15_2024_174947.txt\n",
      "Saved deconvoluted to /projects/p31666/zzhang/doublet-bchmk/data/cpdb/FM04___forty/simple_analysis_deconvoluted_05_15_2024_174947.txt\n",
      "Saved deconvoluted_percents to /projects/p31666/zzhang/doublet-bchmk/data/cpdb/FM04___forty/simple_analysis_deconvoluted_percents_05_15_2024_174947.txt\n",
      "[ ][CORE][15/05/24-17:49:48][INFO] [Non Statistical Method] Threshold:0.1 Precision:3\n",
      "Reading user files...\n"
     ]
    }
   ],
   "source": [
    "for cur_count_file in count_files:\n",
    "    cur_meta_file = os.path.splitext(cur_count_file)[0] + \"_meta.csv\"\n",
    "    cur_sample_id = os.path.splitext(os.path.basename(cur_count_file))[0]\n",
    "    cur_output_prefix = f\"{output_dir}/{cur_sample_id}\"\n",
    "    \n",
    "    cpdb_results = cpdb_analysis_method.call(\n",
    "        cpdb_file_path = cpdb_file_path,           # mandatory: CellphoneDB database zip file.\n",
    "        meta_file_path = cur_meta_file,           # mandatory: tsv file defining barcodes to cell label.\n",
    "        counts_file_path = cur_count_file,       # mandatory: normalized count matrix - a path to the counts file, or an in-memory AnnData object\n",
    "        output_path = cur_output_prefix,\n",
    "        counts_data = 'hgnc_symbol'\n",
    "    )\n",
    "    \n",
    "\n",
    "cur_meta_file"
   ]
  },
  {
   "cell_type": "code",
   "execution_count": 39,
   "id": "23e3b9b6",
   "metadata": {},
   "outputs": [
    {
     "data": {
      "text/plain": [
       "'FM06___twenty'"
      ]
     },
     "execution_count": 39,
     "metadata": {},
     "output_type": "execute_result"
    }
   ],
   "source": [
    "cur_sample_id"
   ]
  },
  {
   "cell_type": "markdown",
   "id": "15d1a5fe",
   "metadata": {},
   "source": [
    "# Test"
   ]
  },
  {
   "cell_type": "code",
   "execution_count": 3,
   "id": "be8a3d54",
   "metadata": {},
   "outputs": [
    {
     "name": "stdout",
     "output_type": "stream",
     "text": [
      "Downloaded cellphonedb.zip into /projects/b1042/GoyalLab/zzhang/cpdb_database\n",
      "Downloaded complex_input.csv into /projects/b1042/GoyalLab/zzhang/cpdb_database\n",
      "Downloaded gene_input.csv into /projects/b1042/GoyalLab/zzhang/cpdb_database\n",
      "Downloaded interaction_input.csv into /projects/b1042/GoyalLab/zzhang/cpdb_database\n",
      "Downloaded protein_input.csv into /projects/b1042/GoyalLab/zzhang/cpdb_database\n",
      "Downloaded uniprot_synonyms.tsv into /projects/b1042/GoyalLab/zzhang/cpdb_database/sources\n",
      "Downloaded transcription_factor_input.csv into /projects/b1042/GoyalLab/zzhang/cpdb_database/sources\n"
     ]
    }
   ],
   "source": [
    "from cellphonedb.utils import db_utils\n",
    "\n",
    "db_utils.download_database(cpdb_target_dir, cpdb_version)"
   ]
  },
  {
   "cell_type": "code",
   "execution_count": 4,
   "id": "f444c167",
   "metadata": {},
   "outputs": [],
   "source": [
    "cur_h5_file = \"/projects/b1042/GoyalLab/zzhang/functional_analysis_renamed/Biorxiv___control.h5ad\"\n",
    "cur_meta = \"/projects/b1042/GoyalLab/zzhang/functional_analysis_renamed/Biorxiv___control_meta.csv\""
   ]
  },
  {
   "cell_type": "code",
   "execution_count": 27,
   "id": "de9bd84d",
   "metadata": {},
   "outputs": [],
   "source": [
    "\n",
    "cpdb_file_path = '/projects/b1042/GoyalLab/zzhang/cpdb_database/cellphonedb.zip'\n",
    "meta_file_path = \"/projects/b1042/GoyalLab/zzhang/functional_analysis_renamed/SPLINTR___control_meta.csv\"\n",
    "counts_file_path = \"/projects/b1042/GoyalLab/zzhang/functional_analysis_renamed/SPLINTR___control.txt\"\n",
    "out_path = 'results/method1'"
   ]
  },
  {
   "cell_type": "code",
   "execution_count": 13,
   "id": "aa01c703",
   "metadata": {},
   "outputs": [],
   "source": [
    "metadata = pd.read_csv(meta_file_path)\n",
    "adata = sc.read_h5ad(counts_file_path)"
   ]
  },
  {
   "cell_type": "code",
   "execution_count": 29,
   "id": "7f49b81c",
   "metadata": {},
   "outputs": [
    {
     "name": "stdout",
     "output_type": "stream",
     "text": [
      "Reading user files...\n",
      "The following user files were loaded successfully:\n",
      "/projects/b1042/GoyalLab/zzhang/functional_analysis_renamed/SPLINTR___control.txt\n",
      "/projects/b1042/GoyalLab/zzhang/functional_analysis_renamed/SPLINTR___control_meta.csv\n",
      "[ ][CORE][15/05/24-22:55:45][INFO] Subsampling 29066 to 300\n",
      "[ ][CORE][15/05/24-22:55:45][WARNING] Subsampling failed: ignored.\n",
      "[ ][CORE][15/05/24-22:55:45][INFO] [Cluster Statistical Analysis] Threshold:0.1 Iterations:1000 Debug-seed:-1 Threads:4 Precision:3\n",
      "[ ][CORE][15/05/24-22:55:46][INFO] No CellphoneDB interactions found in this input.\n"
     ]
    },
    {
     "ename": "KeyError",
     "evalue": "'significant_means'",
     "output_type": "error",
     "traceback": [
      "\u001b[0;31m---------------------------------------------------------------------------\u001b[0m",
      "\u001b[0;31mKeyError\u001b[0m                                  Traceback (most recent call last)",
      "Cell \u001b[0;32mIn[29], line 1\u001b[0m\n\u001b[0;32m----> 1\u001b[0m cpdb_results \u001b[38;5;241m=\u001b[39m \u001b[43mcpdb_statistical_analysis_method\u001b[49m\u001b[38;5;241;43m.\u001b[39;49m\u001b[43mcall\u001b[49m\u001b[43m(\u001b[49m\n\u001b[1;32m      2\u001b[0m \u001b[43m    \u001b[49m\u001b[43mcpdb_file_path\u001b[49m\u001b[43m \u001b[49m\u001b[38;5;241;43m=\u001b[39;49m\u001b[43m \u001b[49m\u001b[43mcpdb_file_path\u001b[49m\u001b[43m,\u001b[49m\u001b[43m           \u001b[49m\u001b[38;5;66;43;03m# mandatory: CellphoneDB database zip file.\u001b[39;49;00m\n\u001b[1;32m      3\u001b[0m \u001b[43m    \u001b[49m\u001b[43mmeta_file_path\u001b[49m\u001b[43m \u001b[49m\u001b[38;5;241;43m=\u001b[39;49m\u001b[43m \u001b[49m\u001b[43mmeta_file_path\u001b[49m\u001b[43m,\u001b[49m\u001b[43m           \u001b[49m\u001b[38;5;66;43;03m# mandatory: tsv file defining barcodes to cell label.\u001b[39;49;00m\n\u001b[1;32m      4\u001b[0m \u001b[43m    \u001b[49m\u001b[43mcounts_file_path\u001b[49m\u001b[43m \u001b[49m\u001b[38;5;241;43m=\u001b[39;49m\u001b[43m \u001b[49m\u001b[43mcounts_file_path\u001b[49m\u001b[43m,\u001b[49m\u001b[43m       \u001b[49m\u001b[38;5;66;43;03m# mandatory: normalized count matrix - a path to the counts file, or an in-memory AnnData object\u001b[39;49;00m\n\u001b[1;32m      5\u001b[0m \u001b[43m    \u001b[49m\u001b[43mcounts_data\u001b[49m\u001b[43m \u001b[49m\u001b[38;5;241;43m=\u001b[39;49m\u001b[43m \u001b[49m\u001b[38;5;124;43m'\u001b[39;49m\u001b[38;5;124;43mhgnc_symbol\u001b[39;49m\u001b[38;5;124;43m'\u001b[39;49m\u001b[43m,\u001b[49m\n\u001b[1;32m      6\u001b[0m \u001b[43m    \u001b[49m\u001b[43moutput_path\u001b[49m\u001b[43m \u001b[49m\u001b[38;5;241;43m=\u001b[39;49m\u001b[43m \u001b[49m\u001b[38;5;124;43m\"\u001b[39;49m\u001b[38;5;124;43mtest\u001b[39;49m\u001b[38;5;124;43m\"\u001b[39;49m\u001b[43m,\u001b[49m\n\u001b[1;32m      7\u001b[0m \u001b[43m    \u001b[49m\u001b[43msubsampling\u001b[49m\u001b[43m \u001b[49m\u001b[38;5;241;43m=\u001b[39;49m\u001b[43m \u001b[49m\u001b[38;5;28;43;01mTrue\u001b[39;49;00m\u001b[43m,\u001b[49m\n\u001b[1;32m      8\u001b[0m \u001b[43m    \u001b[49m\u001b[43msubsampling_num_cells\u001b[49m\u001b[43m \u001b[49m\u001b[38;5;241;43m=\u001b[39;49m\u001b[43m \u001b[49m\u001b[38;5;241;43m300\u001b[39;49m\n\u001b[1;32m      9\u001b[0m \u001b[43m)\u001b[49m\n",
      "File \u001b[0;32m~/softwares/anaconda3/envs/cpdb/lib/python3.8/site-packages/cellphonedb/src/core/methods/cpdb_statistical_analysis_method.py:148\u001b[0m, in \u001b[0;36mcall\u001b[0;34m(cpdb_file_path, meta_file_path, counts_file_path, counts_data, output_path, microenvs_file_path, active_tfs_file_path, iterations, threshold, threads, debug_seed, result_precision, pvalue, subsampling, subsampling_log, subsampling_num_pc, subsampling_num_cells, separator, debug, output_suffix, score_interactions)\u001b[0m\n\u001b[1;32m    124\u001b[0m     counts \u001b[38;5;241m=\u001b[39m ss\u001b[38;5;241m.\u001b[39msubsample(counts)\n\u001b[1;32m    126\u001b[0m analysis_result \u001b[38;5;241m=\u001b[39m cpdb_statistical_analysis_complex_method\u001b[38;5;241m.\u001b[39mcall(meta\u001b[38;5;241m.\u001b[39mcopy(),\n\u001b[1;32m    127\u001b[0m                                                                 counts,\n\u001b[1;32m    128\u001b[0m                                                                 counts_relations,\n\u001b[0;32m   (...)\u001b[0m\n\u001b[1;32m    145\u001b[0m                                                                 output_path\n\u001b[1;32m    146\u001b[0m                                                                 )\n\u001b[0;32m--> 148\u001b[0m significant_means \u001b[38;5;241m=\u001b[39m \u001b[43manalysis_result\u001b[49m\u001b[43m[\u001b[49m\u001b[38;5;124;43m'\u001b[39;49m\u001b[38;5;124;43msignificant_means\u001b[39;49m\u001b[38;5;124;43m'\u001b[39;49m\u001b[43m]\u001b[49m\n\u001b[1;32m    149\u001b[0m max_rank \u001b[38;5;241m=\u001b[39m significant_means[\u001b[38;5;124m'\u001b[39m\u001b[38;5;124mrank\u001b[39m\u001b[38;5;124m'\u001b[39m]\u001b[38;5;241m.\u001b[39mmax()\n\u001b[1;32m    150\u001b[0m significant_means[\u001b[38;5;124m'\u001b[39m\u001b[38;5;124mrank\u001b[39m\u001b[38;5;124m'\u001b[39m] \u001b[38;5;241m=\u001b[39m significant_means[\u001b[38;5;124m'\u001b[39m\u001b[38;5;124mrank\u001b[39m\u001b[38;5;124m'\u001b[39m]\u001b[38;5;241m.\u001b[39mapply(\u001b[38;5;28;01mlambda\u001b[39;00m rank: rank \u001b[38;5;28;01mif\u001b[39;00m rank \u001b[38;5;241m!=\u001b[39m \u001b[38;5;241m0\u001b[39m \u001b[38;5;28;01melse\u001b[39;00m (\u001b[38;5;241m1\u001b[39m \u001b[38;5;241m+\u001b[39m max_rank))\n",
      "\u001b[0;31mKeyError\u001b[0m: 'significant_means'"
     ]
    }
   ],
   "source": [
    "cpdb_results = cpdb_statistical_analysis_method.call(\n",
    "    cpdb_file_path = cpdb_file_path,           # mandatory: CellphoneDB database zip file.\n",
    "    meta_file_path = meta_file_path,           # mandatory: tsv file defining barcodes to cell label.\n",
    "    counts_file_path = counts_file_path,       # mandatory: normalized count matrix - a path to the counts file, or an in-memory AnnData object\n",
    "    counts_data = 'hgnc_symbol',\n",
    "    output_path = \"test\",\n",
    "    subsampling = True,\n",
    "    subsampling_num_cells = 300\n",
    ")"
   ]
  },
  {
   "cell_type": "code",
   "execution_count": 26,
   "id": "29fbdd06",
   "metadata": {},
   "outputs": [
    {
     "data": {
      "text/plain": [
       "{}"
      ]
     },
     "execution_count": 26,
     "metadata": {},
     "output_type": "execute_result"
    }
   ],
   "source": [
    "cpdb_results"
   ]
  },
  {
   "cell_type": "code",
   "execution_count": null,
   "id": "3a7bb83a",
   "metadata": {},
   "outputs": [],
   "source": []
  }
 ],
 "metadata": {
  "kernelspec": {
   "display_name": "cpdb",
   "language": "python",
   "name": "cpdb"
  },
  "language_info": {
   "codemirror_mode": {
    "name": "ipython",
    "version": 3
   },
   "file_extension": ".py",
   "mimetype": "text/x-python",
   "name": "python",
   "nbconvert_exporter": "python",
   "pygments_lexer": "ipython3",
   "version": "3.8.19"
  }
 },
 "nbformat": 4,
 "nbformat_minor": 5
}
